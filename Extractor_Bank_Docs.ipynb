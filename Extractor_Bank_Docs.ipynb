{
  "nbformat": 4,
  "nbformat_minor": 0,
  "metadata": {
    "colab": {
      "provenance": [],
      "authorship_tag": "ABX9TyOzjY1bE5VLev9HuqHL7cij",
      "include_colab_link": true
    },
    "kernelspec": {
      "name": "python3",
      "display_name": "Python 3"
    },
    "language_info": {
      "name": "python"
    }
  },
  "cells": [
    {
      "cell_type": "markdown",
      "metadata": {
        "id": "view-in-github",
        "colab_type": "text"
      },
      "source": [
        "<a href=\"https://colab.research.google.com/github/dsfdev2023/studentEvaluatiuon/blob/main/Extractor_Bank_Docs.ipynb\" target=\"_parent\"><img src=\"https://colab.research.google.com/assets/colab-badge.svg\" alt=\"Open In Colab\"/></a>"
      ]
    },
    {
      "cell_type": "markdown",
      "source": [
        "## I have a folder of pdf files which are bank statements structured in the same exact format. I need to extract 3 things :  a name, a date and an amount."
      ],
      "metadata": {
        "id": "_JVBbow9BOW-"
      }
    },
    {
      "cell_type": "code",
      "source": [
        "# Step 1: Mount Google Drive\n",
        "from google.colab import drive\n",
        "drive.mount('/content/drive')\n"
      ],
      "metadata": {
        "colab": {
          "base_uri": "https://localhost:8080/"
        },
        "id": "U5p3nfyMDlXO",
        "outputId": "6d214a29-21a7-4261-e665-d1f4adeaef64"
      },
      "execution_count": 1,
      "outputs": [
        {
          "output_type": "stream",
          "name": "stdout",
          "text": [
            "Drive already mounted at /content/drive; to attempt to forcibly remount, call drive.mount(\"/content/drive\", force_remount=True).\n"
          ]
        }
      ]
    },
    {
      "cell_type": "code",
      "source": [
        "# Step 2: Install required packages\n",
        "!pip install PyPDF2 spacy\n",
        "!python -m spacy download en_core_web_sm"
      ],
      "metadata": {
        "colab": {
          "base_uri": "https://localhost:8080/"
        },
        "id": "D-H64DWeDEC8",
        "outputId": "b976f504-58f6-458a-9f3f-c5238156cfc9"
      },
      "execution_count": 2,
      "outputs": [
        {
          "output_type": "stream",
          "name": "stdout",
          "text": [
            "Requirement already satisfied: PyPDF2 in /usr/local/lib/python3.10/dist-packages (3.0.1)\n",
            "Requirement already satisfied: spacy in /usr/local/lib/python3.10/dist-packages (3.6.1)\n",
            "Requirement already satisfied: spacy-legacy<3.1.0,>=3.0.11 in /usr/local/lib/python3.10/dist-packages (from spacy) (3.0.12)\n",
            "Requirement already satisfied: spacy-loggers<2.0.0,>=1.0.0 in /usr/local/lib/python3.10/dist-packages (from spacy) (1.0.5)\n",
            "Requirement already satisfied: murmurhash<1.1.0,>=0.28.0 in /usr/local/lib/python3.10/dist-packages (from spacy) (1.0.10)\n",
            "Requirement already satisfied: cymem<2.1.0,>=2.0.2 in /usr/local/lib/python3.10/dist-packages (from spacy) (2.0.8)\n",
            "Requirement already satisfied: preshed<3.1.0,>=3.0.2 in /usr/local/lib/python3.10/dist-packages (from spacy) (3.0.9)\n",
            "Requirement already satisfied: thinc<8.2.0,>=8.1.8 in /usr/local/lib/python3.10/dist-packages (from spacy) (8.1.12)\n",
            "Requirement already satisfied: wasabi<1.2.0,>=0.9.1 in /usr/local/lib/python3.10/dist-packages (from spacy) (1.1.2)\n",
            "Requirement already satisfied: srsly<3.0.0,>=2.4.3 in /usr/local/lib/python3.10/dist-packages (from spacy) (2.4.8)\n",
            "Requirement already satisfied: catalogue<2.1.0,>=2.0.6 in /usr/local/lib/python3.10/dist-packages (from spacy) (2.0.10)\n",
            "Requirement already satisfied: typer<0.10.0,>=0.3.0 in /usr/local/lib/python3.10/dist-packages (from spacy) (0.9.0)\n",
            "Requirement already satisfied: pathy>=0.10.0 in /usr/local/lib/python3.10/dist-packages (from spacy) (0.10.2)\n",
            "Requirement already satisfied: smart-open<7.0.0,>=5.2.1 in /usr/local/lib/python3.10/dist-packages (from spacy) (6.4.0)\n",
            "Requirement already satisfied: tqdm<5.0.0,>=4.38.0 in /usr/local/lib/python3.10/dist-packages (from spacy) (4.66.1)\n",
            "Requirement already satisfied: numpy>=1.15.0 in /usr/local/lib/python3.10/dist-packages (from spacy) (1.23.5)\n",
            "Requirement already satisfied: requests<3.0.0,>=2.13.0 in /usr/local/lib/python3.10/dist-packages (from spacy) (2.31.0)\n",
            "Requirement already satisfied: pydantic!=1.8,!=1.8.1,<3.0.0,>=1.7.4 in /usr/local/lib/python3.10/dist-packages (from spacy) (1.10.13)\n",
            "Requirement already satisfied: jinja2 in /usr/local/lib/python3.10/dist-packages (from spacy) (3.1.2)\n",
            "Requirement already satisfied: setuptools in /usr/local/lib/python3.10/dist-packages (from spacy) (67.7.2)\n",
            "Requirement already satisfied: packaging>=20.0 in /usr/local/lib/python3.10/dist-packages (from spacy) (23.1)\n",
            "Requirement already satisfied: langcodes<4.0.0,>=3.2.0 in /usr/local/lib/python3.10/dist-packages (from spacy) (3.3.0)\n",
            "Requirement already satisfied: typing-extensions>=4.2.0 in /usr/local/lib/python3.10/dist-packages (from pydantic!=1.8,!=1.8.1,<3.0.0,>=1.7.4->spacy) (4.5.0)\n",
            "Requirement already satisfied: charset-normalizer<4,>=2 in /usr/local/lib/python3.10/dist-packages (from requests<3.0.0,>=2.13.0->spacy) (3.2.0)\n",
            "Requirement already satisfied: idna<4,>=2.5 in /usr/local/lib/python3.10/dist-packages (from requests<3.0.0,>=2.13.0->spacy) (3.4)\n",
            "Requirement already satisfied: urllib3<3,>=1.21.1 in /usr/local/lib/python3.10/dist-packages (from requests<3.0.0,>=2.13.0->spacy) (2.0.5)\n",
            "Requirement already satisfied: certifi>=2017.4.17 in /usr/local/lib/python3.10/dist-packages (from requests<3.0.0,>=2.13.0->spacy) (2023.7.22)\n",
            "Requirement already satisfied: blis<0.8.0,>=0.7.8 in /usr/local/lib/python3.10/dist-packages (from thinc<8.2.0,>=8.1.8->spacy) (0.7.11)\n",
            "Requirement already satisfied: confection<1.0.0,>=0.0.1 in /usr/local/lib/python3.10/dist-packages (from thinc<8.2.0,>=8.1.8->spacy) (0.1.3)\n",
            "Requirement already satisfied: click<9.0.0,>=7.1.1 in /usr/local/lib/python3.10/dist-packages (from typer<0.10.0,>=0.3.0->spacy) (8.1.7)\n",
            "Requirement already satisfied: MarkupSafe>=2.0 in /usr/local/lib/python3.10/dist-packages (from jinja2->spacy) (2.1.3)\n",
            "2023-10-04 23:38:37.206991: I tensorflow/core/platform/cpu_feature_guard.cc:182] This TensorFlow binary is optimized to use available CPU instructions in performance-critical operations.\n",
            "To enable the following instructions: AVX2 FMA, in other operations, rebuild TensorFlow with the appropriate compiler flags.\n",
            "2023-10-04 23:38:38.565757: W tensorflow/compiler/tf2tensorrt/utils/py_utils.cc:38] TF-TRT Warning: Could not find TensorRT\n",
            "Collecting en-core-web-sm==3.6.0\n",
            "  Downloading https://github.com/explosion/spacy-models/releases/download/en_core_web_sm-3.6.0/en_core_web_sm-3.6.0-py3-none-any.whl (12.8 MB)\n",
            "\u001b[2K     \u001b[90m━━━━━━━━━━━━━━━━━━━━━━━━━━━━━━━━━━━━━━━━\u001b[0m \u001b[32m12.8/12.8 MB\u001b[0m \u001b[31m43.6 MB/s\u001b[0m eta \u001b[36m0:00:00\u001b[0m\n",
            "\u001b[?25hRequirement already satisfied: spacy<3.7.0,>=3.6.0 in /usr/local/lib/python3.10/dist-packages (from en-core-web-sm==3.6.0) (3.6.1)\n",
            "Requirement already satisfied: spacy-legacy<3.1.0,>=3.0.11 in /usr/local/lib/python3.10/dist-packages (from spacy<3.7.0,>=3.6.0->en-core-web-sm==3.6.0) (3.0.12)\n",
            "Requirement already satisfied: spacy-loggers<2.0.0,>=1.0.0 in /usr/local/lib/python3.10/dist-packages (from spacy<3.7.0,>=3.6.0->en-core-web-sm==3.6.0) (1.0.5)\n",
            "Requirement already satisfied: murmurhash<1.1.0,>=0.28.0 in /usr/local/lib/python3.10/dist-packages (from spacy<3.7.0,>=3.6.0->en-core-web-sm==3.6.0) (1.0.10)\n",
            "Requirement already satisfied: cymem<2.1.0,>=2.0.2 in /usr/local/lib/python3.10/dist-packages (from spacy<3.7.0,>=3.6.0->en-core-web-sm==3.6.0) (2.0.8)\n",
            "Requirement already satisfied: preshed<3.1.0,>=3.0.2 in /usr/local/lib/python3.10/dist-packages (from spacy<3.7.0,>=3.6.0->en-core-web-sm==3.6.0) (3.0.9)\n",
            "Requirement already satisfied: thinc<8.2.0,>=8.1.8 in /usr/local/lib/python3.10/dist-packages (from spacy<3.7.0,>=3.6.0->en-core-web-sm==3.6.0) (8.1.12)\n",
            "Requirement already satisfied: wasabi<1.2.0,>=0.9.1 in /usr/local/lib/python3.10/dist-packages (from spacy<3.7.0,>=3.6.0->en-core-web-sm==3.6.0) (1.1.2)\n",
            "Requirement already satisfied: srsly<3.0.0,>=2.4.3 in /usr/local/lib/python3.10/dist-packages (from spacy<3.7.0,>=3.6.0->en-core-web-sm==3.6.0) (2.4.8)\n",
            "Requirement already satisfied: catalogue<2.1.0,>=2.0.6 in /usr/local/lib/python3.10/dist-packages (from spacy<3.7.0,>=3.6.0->en-core-web-sm==3.6.0) (2.0.10)\n",
            "Requirement already satisfied: typer<0.10.0,>=0.3.0 in /usr/local/lib/python3.10/dist-packages (from spacy<3.7.0,>=3.6.0->en-core-web-sm==3.6.0) (0.9.0)\n",
            "Requirement already satisfied: pathy>=0.10.0 in /usr/local/lib/python3.10/dist-packages (from spacy<3.7.0,>=3.6.0->en-core-web-sm==3.6.0) (0.10.2)\n",
            "Requirement already satisfied: smart-open<7.0.0,>=5.2.1 in /usr/local/lib/python3.10/dist-packages (from spacy<3.7.0,>=3.6.0->en-core-web-sm==3.6.0) (6.4.0)\n",
            "Requirement already satisfied: tqdm<5.0.0,>=4.38.0 in /usr/local/lib/python3.10/dist-packages (from spacy<3.7.0,>=3.6.0->en-core-web-sm==3.6.0) (4.66.1)\n",
            "Requirement already satisfied: numpy>=1.15.0 in /usr/local/lib/python3.10/dist-packages (from spacy<3.7.0,>=3.6.0->en-core-web-sm==3.6.0) (1.23.5)\n",
            "Requirement already satisfied: requests<3.0.0,>=2.13.0 in /usr/local/lib/python3.10/dist-packages (from spacy<3.7.0,>=3.6.0->en-core-web-sm==3.6.0) (2.31.0)\n",
            "Requirement already satisfied: pydantic!=1.8,!=1.8.1,<3.0.0,>=1.7.4 in /usr/local/lib/python3.10/dist-packages (from spacy<3.7.0,>=3.6.0->en-core-web-sm==3.6.0) (1.10.13)\n",
            "Requirement already satisfied: jinja2 in /usr/local/lib/python3.10/dist-packages (from spacy<3.7.0,>=3.6.0->en-core-web-sm==3.6.0) (3.1.2)\n",
            "Requirement already satisfied: setuptools in /usr/local/lib/python3.10/dist-packages (from spacy<3.7.0,>=3.6.0->en-core-web-sm==3.6.0) (67.7.2)\n",
            "Requirement already satisfied: packaging>=20.0 in /usr/local/lib/python3.10/dist-packages (from spacy<3.7.0,>=3.6.0->en-core-web-sm==3.6.0) (23.1)\n",
            "Requirement already satisfied: langcodes<4.0.0,>=3.2.0 in /usr/local/lib/python3.10/dist-packages (from spacy<3.7.0,>=3.6.0->en-core-web-sm==3.6.0) (3.3.0)\n",
            "Requirement already satisfied: typing-extensions>=4.2.0 in /usr/local/lib/python3.10/dist-packages (from pydantic!=1.8,!=1.8.1,<3.0.0,>=1.7.4->spacy<3.7.0,>=3.6.0->en-core-web-sm==3.6.0) (4.5.0)\n",
            "Requirement already satisfied: charset-normalizer<4,>=2 in /usr/local/lib/python3.10/dist-packages (from requests<3.0.0,>=2.13.0->spacy<3.7.0,>=3.6.0->en-core-web-sm==3.6.0) (3.2.0)\n",
            "Requirement already satisfied: idna<4,>=2.5 in /usr/local/lib/python3.10/dist-packages (from requests<3.0.0,>=2.13.0->spacy<3.7.0,>=3.6.0->en-core-web-sm==3.6.0) (3.4)\n",
            "Requirement already satisfied: urllib3<3,>=1.21.1 in /usr/local/lib/python3.10/dist-packages (from requests<3.0.0,>=2.13.0->spacy<3.7.0,>=3.6.0->en-core-web-sm==3.6.0) (2.0.5)\n",
            "Requirement already satisfied: certifi>=2017.4.17 in /usr/local/lib/python3.10/dist-packages (from requests<3.0.0,>=2.13.0->spacy<3.7.0,>=3.6.0->en-core-web-sm==3.6.0) (2023.7.22)\n",
            "Requirement already satisfied: blis<0.8.0,>=0.7.8 in /usr/local/lib/python3.10/dist-packages (from thinc<8.2.0,>=8.1.8->spacy<3.7.0,>=3.6.0->en-core-web-sm==3.6.0) (0.7.11)\n",
            "Requirement already satisfied: confection<1.0.0,>=0.0.1 in /usr/local/lib/python3.10/dist-packages (from thinc<8.2.0,>=8.1.8->spacy<3.7.0,>=3.6.0->en-core-web-sm==3.6.0) (0.1.3)\n",
            "Requirement already satisfied: click<9.0.0,>=7.1.1 in /usr/local/lib/python3.10/dist-packages (from typer<0.10.0,>=0.3.0->spacy<3.7.0,>=3.6.0->en-core-web-sm==3.6.0) (8.1.7)\n",
            "Requirement already satisfied: MarkupSafe>=2.0 in /usr/local/lib/python3.10/dist-packages (from jinja2->spacy<3.7.0,>=3.6.0->en-core-web-sm==3.6.0) (2.1.3)\n",
            "\u001b[38;5;2m✔ Download and installation successful\u001b[0m\n",
            "You can now load the package via spacy.load('en_core_web_sm')\n"
          ]
        }
      ]
    },
    {
      "cell_type": "code",
      "source": [
        "# Download the French model\n",
        "!python -m spacy download fr_core_news_sm\n"
      ],
      "metadata": {
        "colab": {
          "base_uri": "https://localhost:8080/"
        },
        "id": "951GPVJsF8HU",
        "outputId": "ced169c6-f2fc-469d-eda9-5e9318300397"
      },
      "execution_count": 11,
      "outputs": [
        {
          "output_type": "stream",
          "name": "stdout",
          "text": [
            "2023-10-04 23:48:24.186949: W tensorflow/compiler/tf2tensorrt/utils/py_utils.cc:38] TF-TRT Warning: Could not find TensorRT\n",
            "Collecting fr-core-news-sm==3.6.0\n",
            "  Downloading https://github.com/explosion/spacy-models/releases/download/fr_core_news_sm-3.6.0/fr_core_news_sm-3.6.0-py3-none-any.whl (16.3 MB)\n",
            "\u001b[2K     \u001b[90m━━━━━━━━━━━━━━━━━━━━━━━━━━━━━━━━━━━━━━━━\u001b[0m \u001b[32m16.3/16.3 MB\u001b[0m \u001b[31m39.7 MB/s\u001b[0m eta \u001b[36m0:00:00\u001b[0m\n",
            "\u001b[?25hRequirement already satisfied: spacy<3.7.0,>=3.6.0 in /usr/local/lib/python3.10/dist-packages (from fr-core-news-sm==3.6.0) (3.6.1)\n",
            "Requirement already satisfied: spacy-legacy<3.1.0,>=3.0.11 in /usr/local/lib/python3.10/dist-packages (from spacy<3.7.0,>=3.6.0->fr-core-news-sm==3.6.0) (3.0.12)\n",
            "Requirement already satisfied: spacy-loggers<2.0.0,>=1.0.0 in /usr/local/lib/python3.10/dist-packages (from spacy<3.7.0,>=3.6.0->fr-core-news-sm==3.6.0) (1.0.5)\n",
            "Requirement already satisfied: murmurhash<1.1.0,>=0.28.0 in /usr/local/lib/python3.10/dist-packages (from spacy<3.7.0,>=3.6.0->fr-core-news-sm==3.6.0) (1.0.10)\n",
            "Requirement already satisfied: cymem<2.1.0,>=2.0.2 in /usr/local/lib/python3.10/dist-packages (from spacy<3.7.0,>=3.6.0->fr-core-news-sm==3.6.0) (2.0.8)\n",
            "Requirement already satisfied: preshed<3.1.0,>=3.0.2 in /usr/local/lib/python3.10/dist-packages (from spacy<3.7.0,>=3.6.0->fr-core-news-sm==3.6.0) (3.0.9)\n",
            "Requirement already satisfied: thinc<8.2.0,>=8.1.8 in /usr/local/lib/python3.10/dist-packages (from spacy<3.7.0,>=3.6.0->fr-core-news-sm==3.6.0) (8.1.12)\n",
            "Requirement already satisfied: wasabi<1.2.0,>=0.9.1 in /usr/local/lib/python3.10/dist-packages (from spacy<3.7.0,>=3.6.0->fr-core-news-sm==3.6.0) (1.1.2)\n",
            "Requirement already satisfied: srsly<3.0.0,>=2.4.3 in /usr/local/lib/python3.10/dist-packages (from spacy<3.7.0,>=3.6.0->fr-core-news-sm==3.6.0) (2.4.8)\n",
            "Requirement already satisfied: catalogue<2.1.0,>=2.0.6 in /usr/local/lib/python3.10/dist-packages (from spacy<3.7.0,>=3.6.0->fr-core-news-sm==3.6.0) (2.0.10)\n",
            "Requirement already satisfied: typer<0.10.0,>=0.3.0 in /usr/local/lib/python3.10/dist-packages (from spacy<3.7.0,>=3.6.0->fr-core-news-sm==3.6.0) (0.9.0)\n",
            "Requirement already satisfied: pathy>=0.10.0 in /usr/local/lib/python3.10/dist-packages (from spacy<3.7.0,>=3.6.0->fr-core-news-sm==3.6.0) (0.10.2)\n",
            "Requirement already satisfied: smart-open<7.0.0,>=5.2.1 in /usr/local/lib/python3.10/dist-packages (from spacy<3.7.0,>=3.6.0->fr-core-news-sm==3.6.0) (6.4.0)\n",
            "Requirement already satisfied: tqdm<5.0.0,>=4.38.0 in /usr/local/lib/python3.10/dist-packages (from spacy<3.7.0,>=3.6.0->fr-core-news-sm==3.6.0) (4.66.1)\n",
            "Requirement already satisfied: numpy>=1.15.0 in /usr/local/lib/python3.10/dist-packages (from spacy<3.7.0,>=3.6.0->fr-core-news-sm==3.6.0) (1.23.5)\n",
            "Requirement already satisfied: requests<3.0.0,>=2.13.0 in /usr/local/lib/python3.10/dist-packages (from spacy<3.7.0,>=3.6.0->fr-core-news-sm==3.6.0) (2.31.0)\n",
            "Requirement already satisfied: pydantic!=1.8,!=1.8.1,<3.0.0,>=1.7.4 in /usr/local/lib/python3.10/dist-packages (from spacy<3.7.0,>=3.6.0->fr-core-news-sm==3.6.0) (1.10.13)\n",
            "Requirement already satisfied: jinja2 in /usr/local/lib/python3.10/dist-packages (from spacy<3.7.0,>=3.6.0->fr-core-news-sm==3.6.0) (3.1.2)\n",
            "Requirement already satisfied: setuptools in /usr/local/lib/python3.10/dist-packages (from spacy<3.7.0,>=3.6.0->fr-core-news-sm==3.6.0) (67.7.2)\n",
            "Requirement already satisfied: packaging>=20.0 in /usr/local/lib/python3.10/dist-packages (from spacy<3.7.0,>=3.6.0->fr-core-news-sm==3.6.0) (23.1)\n",
            "Requirement already satisfied: langcodes<4.0.0,>=3.2.0 in /usr/local/lib/python3.10/dist-packages (from spacy<3.7.0,>=3.6.0->fr-core-news-sm==3.6.0) (3.3.0)\n",
            "Requirement already satisfied: typing-extensions>=4.2.0 in /usr/local/lib/python3.10/dist-packages (from pydantic!=1.8,!=1.8.1,<3.0.0,>=1.7.4->spacy<3.7.0,>=3.6.0->fr-core-news-sm==3.6.0) (4.5.0)\n",
            "Requirement already satisfied: charset-normalizer<4,>=2 in /usr/local/lib/python3.10/dist-packages (from requests<3.0.0,>=2.13.0->spacy<3.7.0,>=3.6.0->fr-core-news-sm==3.6.0) (3.2.0)\n",
            "Requirement already satisfied: idna<4,>=2.5 in /usr/local/lib/python3.10/dist-packages (from requests<3.0.0,>=2.13.0->spacy<3.7.0,>=3.6.0->fr-core-news-sm==3.6.0) (3.4)\n",
            "Requirement already satisfied: urllib3<3,>=1.21.1 in /usr/local/lib/python3.10/dist-packages (from requests<3.0.0,>=2.13.0->spacy<3.7.0,>=3.6.0->fr-core-news-sm==3.6.0) (2.0.5)\n",
            "Requirement already satisfied: certifi>=2017.4.17 in /usr/local/lib/python3.10/dist-packages (from requests<3.0.0,>=2.13.0->spacy<3.7.0,>=3.6.0->fr-core-news-sm==3.6.0) (2023.7.22)\n",
            "Requirement already satisfied: blis<0.8.0,>=0.7.8 in /usr/local/lib/python3.10/dist-packages (from thinc<8.2.0,>=8.1.8->spacy<3.7.0,>=3.6.0->fr-core-news-sm==3.6.0) (0.7.11)\n",
            "Requirement already satisfied: confection<1.0.0,>=0.0.1 in /usr/local/lib/python3.10/dist-packages (from thinc<8.2.0,>=8.1.8->spacy<3.7.0,>=3.6.0->fr-core-news-sm==3.6.0) (0.1.3)\n",
            "Requirement already satisfied: click<9.0.0,>=7.1.1 in /usr/local/lib/python3.10/dist-packages (from typer<0.10.0,>=0.3.0->spacy<3.7.0,>=3.6.0->fr-core-news-sm==3.6.0) (8.1.7)\n",
            "Requirement already satisfied: MarkupSafe>=2.0 in /usr/local/lib/python3.10/dist-packages (from jinja2->spacy<3.7.0,>=3.6.0->fr-core-news-sm==3.6.0) (2.1.3)\n",
            "Installing collected packages: fr-core-news-sm\n",
            "Successfully installed fr-core-news-sm-3.6.0\n",
            "\u001b[38;5;2m✔ Download and installation successful\u001b[0m\n",
            "You can now load the package via spacy.load('fr_core_news_sm')\n"
          ]
        }
      ]
    },
    {
      "cell_type": "code",
      "source": [
        "# Step 3: Import necessary libraries\n",
        "import PyPDF2\n",
        "import spacy\n",
        "from spacy import displacy\n",
        "from pathlib import Path\n",
        "\n",
        "# Load the spacy model for NER\n",
        "nlp = spacy.load(\"fr_core_news_sm\")\n",
        "\n",
        "# Define the function to extract text from PDF\n",
        "def extract_text_from_pdf(pdf_path):\n",
        "    with open(pdf_path, 'rb') as file:\n",
        "        reader = PyPDF2.PdfReader(file)\n",
        "        text = ''\n",
        "        for page_num in range(len(reader.pages)):\n",
        "            page = reader.pages[page_num]\n",
        "            text += page.extract_text()\n",
        "    return text\n",
        "\n",
        "# Define the function to extract named entities\n",
        "def extract_named_entities(text):\n",
        "    doc = nlp(text)\n",
        "    names = []\n",
        "    dates = []\n",
        "    amounts = []\n",
        "\n",
        "    for ent in doc.ents:\n",
        "        if ent.label_ == \"PERSON\":\n",
        "            names.append(ent.text)\n",
        "        elif ent.label_ == \"DATE\":\n",
        "            dates.append(ent.text)\n",
        "        elif ent.label_ == \"MONEY\":\n",
        "            amounts.append(ent.text)\n",
        "\n",
        "    return names, dates, amounts\n",
        "\n",
        "# Process each PDF file\n",
        "folder_path = \"/content/drive/MyDrive/BANK UC/AC\"  # Adjust the path accordingly\n",
        "pdf_files = list(Path(folder_path).glob('*.pdf'))\n",
        "\n",
        "for pdf_file in pdf_files:\n",
        "    text = extract_text_from_pdf(pdf_file)\n",
        "    names, dates, amounts = extract_named_entities(text)\n",
        "\n",
        "    # Print extracted entities for each file (you can store or process as required)\n",
        "    print(f\"File: {pdf_file.name}\")\n",
        "    print(\"Names:\", names)\n",
        "    print(\"Dates:\", dates)\n",
        "    print(\"Amounts:\", amounts)\n",
        "    print(\"=\"*50)\n"
      ],
      "metadata": {
        "colab": {
          "base_uri": "https://localhost:8080/"
        },
        "id": "4TfFWowCFAlR",
        "outputId": "606b1364-90f8-4e56-81c3-25cf0de853df"
      },
      "execution_count": 12,
      "outputs": [
        {
          "output_type": "stream",
          "name": "stdout",
          "text": [
            "File: AC 1.pdf\n",
            "Names: []\n",
            "Dates: []\n",
            "Amounts: []\n",
            "==================================================\n",
            "File: AC 2.pdf\n",
            "Names: []\n",
            "Dates: []\n",
            "Amounts: []\n",
            "==================================================\n",
            "File: AC 3.pdf\n",
            "Names: []\n",
            "Dates: []\n",
            "Amounts: []\n",
            "==================================================\n",
            "File: AC 4.pdf\n",
            "Names: []\n",
            "Dates: []\n",
            "Amounts: []\n",
            "==================================================\n",
            "File: AC 5.pdf\n",
            "Names: []\n",
            "Dates: []\n",
            "Amounts: []\n",
            "==================================================\n",
            "File: AC 6.pdf\n",
            "Names: []\n",
            "Dates: []\n",
            "Amounts: []\n",
            "==================================================\n",
            "File: AC 7.pdf\n",
            "Names: []\n",
            "Dates: []\n",
            "Amounts: []\n",
            "==================================================\n",
            "File: AC 8.pdf\n",
            "Names: []\n",
            "Dates: []\n",
            "Amounts: []\n",
            "==================================================\n"
          ]
        }
      ]
    },
    {
      "cell_type": "markdown",
      "source": [
        "# **THIS METHOD DONT WORK**"
      ],
      "metadata": {
        "id": "4Z8xJvPbKnYv"
      }
    },
    {
      "cell_type": "markdown",
      "source": [
        "Manually inspect the PDFs to understand their structure.\n",
        "Adjust the extraction process based on the structure.\n",
        "Consider training a custom NER model on a sample of your data (if you have labeled data)."
      ],
      "metadata": {
        "id": "huys0-jGFkkL"
      }
    },
    {
      "cell_type": "markdown",
      "source": [
        "# **2ND METHOD: REG EXPRESSIONS**"
      ],
      "metadata": {
        "id": "piW4u312KrhX"
      }
    },
    {
      "cell_type": "code",
      "source": [
        "# First, let's mount Google Drive\n",
        "from google.colab import drive\n",
        "drive.mount('/content/drive')"
      ],
      "metadata": {
        "colab": {
          "base_uri": "https://localhost:8080/"
        },
        "id": "all4_kjRK6TX",
        "outputId": "f40776e3-ba0d-44e7-814a-9bc9db6e6e8b"
      },
      "execution_count": 13,
      "outputs": [
        {
          "output_type": "stream",
          "name": "stdout",
          "text": [
            "Drive already mounted at /content/drive; to attempt to forcibly remount, call drive.mount(\"/content/drive\", force_remount=True).\n"
          ]
        }
      ]
    },
    {
      "cell_type": "code",
      "source": [
        "# Libraries for PDF extraction and regex\n",
        "import PyPDF2\n",
        "import re\n",
        "\n",
        "def extract_text_from_pdf(pdf_path):\n",
        "    # Open the PDF file in binary mode\n",
        "    with open(pdf_path, 'rb') as file:\n",
        "        # Initialize a PDF reader object\n",
        "        reader = PyPDF2.PdfReader(file)\n",
        "\n",
        "        # Read all the text into a single string\n",
        "        text = ''\n",
        "        for page in reader.pages:\n",
        "            text += page.extract_text()\n",
        "\n",
        "    return text\n",
        "\n",
        "def extract_info(documentText):\n",
        "    # Extract name\n",
        "    name_match = re.search(r'M\\s+([\\w\\s]+)', documentText)\n",
        "    extractedName = name_match.group(1).strip() if name_match else None\n",
        "\n",
        "    # Extract date\n",
        "    date_match = re.search(r'(\\d{8})', documentText)\n",
        "    extractedDate = date_match.group(1) if date_match else None\n",
        "\n",
        "    # Extract amount\n",
        "    amount_match = re.search(r'MONTANT DU VIREMENT\\s+([\\d,]+)', documentText)\n",
        "    extractedAmount = amount_match.group(1).replace(',', '.') if amount_match else None\n",
        "\n",
        "    return extractedName, extractedDate, extractedAmount\n",
        "\n",
        "# Path to your PDF file in Google Drive\n",
        "pdf_path = '/content/drive/MyDrive/BANK UC/AC/AC 1.pdf'\n",
        "\n",
        "# Extract text from the PDF\n",
        "documentText = extract_text_from_pdf(pdf_path)\n",
        "\n",
        "# Extract information from the text\n",
        "name, date, amount = extract_info(documentText)\n",
        "print(f\"Name: {name}\")\n",
        "print(f\"Date: {date}\")\n",
        "print(f\"Amount: {amount}\")\n"
      ],
      "metadata": {
        "colab": {
          "base_uri": "https://localhost:8080/"
        },
        "id": "PWjT44PpLWWn",
        "outputId": "a87750a2-483c-462f-e4fe-64370cab3c63"
      },
      "execution_count": 16,
      "outputs": [
        {
          "output_type": "stream",
          "name": "stdout",
          "text": [
            "Name: YASSINE IBNATTYA ANDALOUSSI\n",
            "            21110\n",
            "                                       COURR NE PAS ENV\n",
            "                                       NE PAS POSTER S\n",
            "Date: 81000242\n",
            "Amount: None\n"
          ]
        }
      ]
    },
    {
      "cell_type": "markdown",
      "source": [
        "# **OUTPUT SUCKS, USE CHATGPT REGEX**"
      ],
      "metadata": {
        "id": "Ss71MKEyMA1g"
      }
    },
    {
      "cell_type": "code",
      "source": [
        "# Libraries for PDF extraction and regex\n",
        "import PyPDF2\n",
        "import re\n",
        "\n",
        "def extract_text_from_pdf(pdf_path):\n",
        "    # Open the PDF file in binary mode\n",
        "    with open(pdf_path, 'rb') as file:\n",
        "        # Initialize a PDF reader object\n",
        "        reader = PyPDF2.PdfReader(file)\n",
        "\n",
        "        # Read all the text into a single string\n",
        "        text = ''\n",
        "        for page in reader.pages:\n",
        "            text += page.extract_text()\n",
        "\n",
        "    return text\n",
        "\n",
        "def extract_info(documentText):\n",
        "    # Extract name\n",
        "    name_match = re.search(r'M\\s+([A-Z\\s]+)\\s+ANDALOUSSI', documentText)\n",
        "    extractedName = name_match.group(1).strip() + \" ANDALOUSSI\" if name_match else None\n",
        "\n",
        "    # Extract date\n",
        "    date_match = re.search(r'(\\d{2}\\d{2}\\d{4})', documentText)\n",
        "    extractedDate = date_match.group(1) if date_match else None\n",
        "\n",
        "    # Extract amount\n",
        "    amount_match = re.search(r'MONTANT DU VIREMENT\\s+:\\s+([\\d,]+)', documentText)\n",
        "    extractedAmount = amount_match.group(1).replace(',', '.') if amount_match else None\n",
        "\n",
        "    return extractedName, extractedDate, extractedAmount\n",
        "\n",
        "# Path to your PDF file in Google Drive\n",
        "pdf_path = '/content/drive/MyDrive/BANK UC/AC/AC 1.pdf'\n",
        "\n",
        "# Extract text from the PDF\n",
        "documentText = extract_text_from_pdf(pdf_path)\n",
        "\n",
        "# Extract information from the text\n",
        "name, date, amount = extract_info(documentText)\n",
        "print(f\"Name: {name}\")\n",
        "print(f\"Date: {date}\")\n",
        "print(f\"Amount: {amount}\")\n"
      ],
      "metadata": {
        "colab": {
          "base_uri": "https://localhost:8080/"
        },
        "id": "kWhI7IwIMFuQ",
        "outputId": "c047907b-bd94-471d-dfbc-c042a1a2f22f"
      },
      "execution_count": 17,
      "outputs": [
        {
          "output_type": "stream",
          "name": "stdout",
          "text": [
            "Name: YASSINE IBNATTYA ANDALOUSSI\n",
            "Date: 81000242\n",
            "Amount: 2\n"
          ]
        }
      ]
    },
    {
      "cell_type": "markdown",
      "source": [
        "## **Name Found - Adjust to find Date and Amount**\n",
        "\n",
        "\n",
        "\n"
      ],
      "metadata": {
        "id": "8LCy5uaANPZF"
      }
    },
    {
      "cell_type": "code",
      "source": [
        "# Libraries for PDF extraction and regex\n",
        "import PyPDF2\n",
        "import re\n",
        "\n",
        "def extract_text_from_pdf(pdf_path):\n",
        "    # Open the PDF file in binary mode\n",
        "    with open(pdf_path, 'rb') as file:\n",
        "        # Initialize a PDF reader object\n",
        "        reader = PyPDF2.PdfReader(file)\n",
        "\n",
        "        # Read all the text into a single string\n",
        "        text = ''\n",
        "        for page in reader.pages:\n",
        "            text += page.extract_text()\n",
        "\n",
        "    return text\n",
        "\n",
        "def extract_info(documentText):\n",
        "    # Extract name\n",
        "    name_match = re.search(r'M\\s+([A-Z\\s]+)\\s+ANDALOUSSI', documentText)\n",
        "    extractedName = name_match.group(1).strip() + \" ANDALOUSSI\" if name_match else None\n",
        "\n",
        "    # Extract date: searching for a 7 or 8 digit number\n",
        "    date_match = re.search(r'\\b(\\d{7,8})\\b', documentText)\n",
        "    extractedDate = date_match.group(1) if date_match else None\n",
        "\n",
        "    # Extract amount\n",
        "    amount_match = re.search(r'MONTANT DU VIREMENT\\s+:\\s+([\\d,]+)', documentText)\n",
        "    extractedAmount = amount_match.group(1).replace(',', '.') if amount_match else None\n",
        "\n",
        "    return extractedName, extractedDate, extractedAmount\n",
        "\n",
        "# Path to your PDF file in Google Drive\n",
        "pdf_path = '/content/drive/MyDrive/BANK UC/AC/AC 1.pdf'\n",
        "\n",
        "# Extract text from the PDF\n",
        "documentText = extract_text_from_pdf(pdf_path)\n",
        "\n",
        "# Extract information from the text\n",
        "name, date, amount = extract_info(documentText)\n",
        "print(f\"Name: {name}\")\n",
        "print(f\"Date: {date}\")\n",
        "print(f\"Amount: {amount}\")\n"
      ],
      "metadata": {
        "colab": {
          "base_uri": "https://localhost:8080/"
        },
        "id": "buzYnMHmNDVt",
        "outputId": "2a0fa020-2621-4a9b-ff58-0ffff7fd819f"
      },
      "execution_count": 18,
      "outputs": [
        {
          "output_type": "stream",
          "name": "stdout",
          "text": [
            "Name: YASSINE IBNATTYA ANDALOUSSI\n",
            "Date: 27092023\n",
            "Amount: 2\n"
          ]
        }
      ]
    },
    {
      "cell_type": "markdown",
      "source": [
        "## **Date Found - Adjust to find Amount**"
      ],
      "metadata": {
        "id": "XdzVz66QNZMt"
      }
    },
    {
      "cell_type": "code",
      "source": [
        "# Libraries for PDF extraction and regex\n",
        "import PyPDF2\n",
        "import re\n",
        "\n",
        "def extract_text_from_pdf(pdf_path):\n",
        "    # Open the PDF file in binary mode\n",
        "    with open(pdf_path, 'rb') as file:\n",
        "        # Initialize a PDF reader object\n",
        "        reader = PyPDF2.PdfReader(file)\n",
        "\n",
        "        # Read all the text into a single string\n",
        "        text = ''\n",
        "        for page in reader.pages:\n",
        "            text += page.extract_text()\n",
        "\n",
        "    return text\n",
        "\n",
        "def extract_info(documentText):\n",
        "    # Extract name\n",
        "    name_match = re.search(r'M\\s+([A-Z\\s]+)\\s+ANDALOUSSI', documentText)\n",
        "    extractedName = name_match.group(1).strip() + \" ANDALOUSSI\" if name_match else None\n",
        "\n",
        "    # Extract date: searching for a 7 or 8 digit number\n",
        "    date_match = re.search(r'\\b(\\d{7,8})\\b', documentText)\n",
        "    extractedDate = date_match.group(1) if date_match else None\n",
        "\n",
        "    # Extract amount: searching for the last occurrence of a number with two decimal places\n",
        "    # Accounting for the space used as a thousand separator\n",
        "    all_amount_matches = re.findall(r'(\\d{1,3}(?:\\s\\d{3})*,\\d{2})', documentText)\n",
        "    extractedAmount = all_amount_matches[-1].replace(' ', '').replace(',', '.') if all_amount_matches else None\n",
        "\n",
        "    return extractedName, extractedDate, extractedAmount\n",
        "\n",
        "# Path to your PDF file in Google Drive\n",
        "pdf_path = '/content/drive/MyDrive/BANK UC/AC/AC 1.pdf'\n",
        "\n",
        "# Extract text from the PDF\n",
        "documentText = extract_text_from_pdf(pdf_path)\n",
        "\n",
        "# Extract information from the text\n",
        "name, date, amount = extract_info(documentText)\n",
        "print(f\"Name: {name}\")\n",
        "print(f\"Date: {date}\")\n",
        "print(f\"Amount: {amount}\")\n"
      ],
      "metadata": {
        "colab": {
          "base_uri": "https://localhost:8080/"
        },
        "id": "6IOXQxpCOHZ2",
        "outputId": "f3a17a6c-7bc7-4dd2-acaf-b4a194b3e158"
      },
      "execution_count": 20,
      "outputs": [
        {
          "output_type": "stream",
          "name": "stdout",
          "text": [
            "Name: YASSINE IBNATTYA ANDALOUSSI\n",
            "Date: 27092023\n",
            "Amount: 2037.00\n"
          ]
        }
      ]
    },
    {
      "cell_type": "markdown",
      "source": [
        "## **Format the Date**"
      ],
      "metadata": {
        "id": "ocovEJTHO5q_"
      }
    },
    {
      "cell_type": "code",
      "source": [
        "# Libraries for PDF extraction and regex\n",
        "import PyPDF2\n",
        "import re\n",
        "\n",
        "def extract_text_from_pdf(pdf_path):\n",
        "    # Open the PDF file in binary mode\n",
        "    with open(pdf_path, 'rb') as file:\n",
        "        # Initialize a PDF reader object\n",
        "        reader = PyPDF2.PdfReader(file)\n",
        "\n",
        "        # Read all the text into a single string\n",
        "        text = ''\n",
        "        for page in reader.pages:\n",
        "            text += page.extract_text()\n",
        "\n",
        "    return text\n",
        "\n",
        "def format_date(date_str):\n",
        "    # Convert a string like 26092023 to 26-09-2023\n",
        "    return f\"{date_str[:2]}-{date_str[2:4]}-{date_str[4:]}\"\n",
        "\n",
        "def extract_info(documentText):\n",
        "    # Extract name\n",
        "    name_match = re.search(r'M\\s+([A-Z\\s]+)\\s+ANDALOUSSI', documentText)\n",
        "    extractedName = name_match.group(1).strip() + \" ANDALOUSSI\" if name_match else None\n",
        "\n",
        "    # Extract date: searching for a 7 or 8 digit number\n",
        "    date_match = re.search(r'\\b(\\d{7,8})\\b', documentText)\n",
        "    extractedDate = format_date(date_match.group(1)) if date_match else None\n",
        "\n",
        "    # Extract amount: searching for the last occurrence of a number with two decimal places\n",
        "    all_amount_matches = re.findall(r'(\\d{1,3}(?:\\s\\d{3})*,\\d{2})', documentText)\n",
        "    extractedAmount = all_amount_matches[-1].replace(' ', '').replace(',', '.') if all_amount_matches else None\n",
        "\n",
        "    return extractedName, extractedDate, extractedAmount\n",
        "\n",
        "# Path to your PDF file in Google Drive\n",
        "pdf_path = '/content/drive/MyDrive/BANK UC/AC/AC 1.pdf'\n",
        "\n",
        "# Extract text from the PDF\n",
        "documentText = extract_text_from_pdf(pdf_path)\n",
        "\n",
        "# Extract information from the text\n",
        "name, date, amount = extract_info(documentText)\n",
        "print(f\"Name: {name}\")\n",
        "print(f\"Date: {date}\")\n",
        "print(f\"Amount: {amount}\")\n"
      ],
      "metadata": {
        "colab": {
          "base_uri": "https://localhost:8080/"
        },
        "id": "2_lwSfo4PNXb",
        "outputId": "485c1008-9ec4-401f-dff2-afc776b6b9ef"
      },
      "execution_count": 21,
      "outputs": [
        {
          "output_type": "stream",
          "name": "stdout",
          "text": [
            "Name: YASSINE IBNATTYA ANDALOUSSI\n",
            "Date: 27-09-2023\n",
            "Amount: 2037.00\n"
          ]
        }
      ]
    },
    {
      "cell_type": "markdown",
      "source": [
        "# **BEAUTIFUL**"
      ],
      "metadata": {
        "id": "VINn59MxPVg_"
      }
    },
    {
      "cell_type": "markdown",
      "source": [
        "# **NOW SCALE TO ALL FILES IN AC FOLDER**"
      ],
      "metadata": {
        "id": "g4ZyrsOwPXmF"
      }
    },
    {
      "cell_type": "code",
      "source": [
        "# Libraries for PDF extraction, regex, file listing, and tabulation\n",
        "import PyPDF2\n",
        "import re\n",
        "import os\n",
        "from tabulate import tabulate\n",
        "\n",
        "def extract_text_from_pdf(pdf_path):\n",
        "    with open(pdf_path, 'rb') as file:\n",
        "        reader = PyPDF2.PdfReader(file)\n",
        "        text = ''\n",
        "        for page in reader.pages:\n",
        "            text += page.extract_text()\n",
        "    return text\n",
        "\n",
        "def format_date(date_str):\n",
        "    return f\"{date_str[:2]}-{date_str[2:4]}-{date_str[4:]}\"\n",
        "\n",
        "def extract_info(documentText):\n",
        "    name_match = re.search(r'M\\s+([A-Z\\s]+)\\s+ANDALOUSSI', documentText)\n",
        "    extractedName = name_match.group(1).strip() + \" ANDALOUSSI\" if name_match else None\n",
        "\n",
        "    date_match = re.search(r'\\b(\\d{7,8})\\b', documentText)\n",
        "    extractedDate = format_date(date_match.group(1)) if date_match else None\n",
        "\n",
        "    all_amount_matches = re.findall(r'(\\d{1,3}(?:\\s\\d{3})*,\\d{2})', documentText)\n",
        "    extractedAmount = all_amount_matches[-1].replace(' ', '').replace(',', '.') if all_amount_matches else None\n",
        "\n",
        "    return extractedName, extractedDate, extractedAmount\n",
        "\n",
        "# Path to your folder containing PDF files in Google Drive\n",
        "folder_path = '/content/drive/MyDrive/BANK UC/AC'\n",
        "\n",
        "# List all files in the folder\n",
        "files = [f for f in os.listdir(folder_path) if os.path.isfile(os.path.join(folder_path, f))]\n",
        "\n",
        "# Store results for each file in a list\n",
        "results = []\n",
        "\n",
        "# Loop through each file and extract information\n",
        "for file in files:\n",
        "    documentText = extract_text_from_pdf(os.path.join(folder_path, file))\n",
        "    name, date, amount = extract_info(documentText)\n",
        "    results.append([file, name, date, amount])\n",
        "\n",
        "# Display results using tabulate\n",
        "headers = ['File Name', 'Name', 'Date', 'Amount']\n",
        "print(tabulate(results, headers=headers, tablefmt='grid'))\n"
      ],
      "metadata": {
        "colab": {
          "base_uri": "https://localhost:8080/"
        },
        "id": "UALGWXBqTYtx",
        "outputId": "98166269-e589-4645-8ee2-41515a27ad4a"
      },
      "execution_count": 22,
      "outputs": [
        {
          "output_type": "stream",
          "name": "stdout",
          "text": [
            "+-------------+-----------------------------+------------+----------+\n",
            "| File Name   | Name                        | Date       |   Amount |\n",
            "+=============+=============================+============+==========+\n",
            "| AC 1.pdf    | YASSINE IBNATTYA ANDALOUSSI | 27-09-2023 |  2037    |\n",
            "+-------------+-----------------------------+------------+----------+\n",
            "| AC 2.pdf    | YASSINE IBNATTYA ANDALOUSSI | 26-09-2023 |  1209.47 |\n",
            "+-------------+-----------------------------+------------+----------+\n",
            "| AC 3.pdf    | YASSINE IBNATTYA ANDALOUSSI | 20-09-2023 |  2037    |\n",
            "+-------------+-----------------------------+------------+----------+\n",
            "| AC 4.pdf    | YASSINE IBNATTYA ANDALOUSSI | 18-09-2023 |  2958.5  |\n",
            "+-------------+-----------------------------+------------+----------+\n",
            "| AC 5.pdf    | YASSINE IBNATTYA ANDALOUSSI | 12-09-2023 |  7760    |\n",
            "+-------------+-----------------------------+------------+----------+\n",
            "| AC 6.pdf    | YASSINE IBNATTYA ANDALOUSSI | 12-09-2023 |  6000    |\n",
            "+-------------+-----------------------------+------------+----------+\n",
            "| AC 7.pdf    | YASSINE IBNATTYA ANDALOUSSI | 07-09-2023 |  3977    |\n",
            "+-------------+-----------------------------+------------+----------+\n",
            "| AC 8.pdf    | YASSINE IBNATTYA ANDALOUSSI | 05-09-2023 |  2716    |\n",
            "+-------------+-----------------------------+------------+----------+\n"
          ]
        }
      ]
    },
    {
      "cell_type": "markdown",
      "source": [
        "# **OUTPUT IS PERFECT**"
      ],
      "metadata": {
        "id": "9ir7UehXT-Nf"
      }
    },
    {
      "cell_type": "markdown",
      "source": [
        "# **NOW UPDATE CODE to reflect a more generalized name extraction pattern**"
      ],
      "metadata": {
        "id": "tm8agkWNUg4S"
      }
    },
    {
      "cell_type": "code",
      "source": [
        "# Libraries for PDF extraction, regex, file listing, and tabulation\n",
        "import PyPDF2\n",
        "import re\n",
        "import os\n",
        "from tabulate import tabulate\n",
        "\n",
        "def extract_text_from_pdf(pdf_path):\n",
        "    with open(pdf_path, 'rb') as file:\n",
        "        reader = PyPDF2.PdfReader(file)\n",
        "        text = ''\n",
        "        for page in reader.pages:\n",
        "            text += page.extract_text()\n",
        "    return text\n",
        "\n",
        "def format_date(date_str):\n",
        "    return f\"{date_str[:2]}-{date_str[2:4]}-{date_str[4:]}\"\n",
        "\n",
        "def extract_info(documentText):\n",
        "    # Updated name extraction pattern\n",
        "    name_match = re.search(r'M\\s+([A-Z\\s]+)', documentText)\n",
        "    extractedName = name_match.group(1).strip() if name_match else None\n",
        "\n",
        "    date_match = re.search(r'\\b(\\d{7,8})\\b', documentText)\n",
        "    extractedDate = format_date(date_match.group(1)) if date_match else None\n",
        "\n",
        "    all_amount_matches = re.findall(r'(\\d{1,3}(?:\\s\\d{3})*,\\d{2})', documentText)\n",
        "    extractedAmount = all_amount_matches[-1].replace(' ', '').replace(',', '.') if all_amount_matches else None\n",
        "\n",
        "    return extractedName, extractedDate, extractedAmount\n",
        "\n",
        "# Path to your folder containing PDF files in Google Drive\n",
        "folder_path = '/content/drive/MyDrive/ACC'\n",
        "\n",
        "# List all files in the folder\n",
        "files = [f for f in os.listdir(folder_path) if os.path.isfile(os.path.join(folder_path, f))]\n",
        "\n",
        "# Store results for each file in a list\n",
        "results = []\n",
        "\n",
        "# Loop through each file and extract information\n",
        "for file in files:\n",
        "    documentText = extract_text_from_pdf(os.path.join(folder_path, file))\n",
        "    name, date, amount = extract_info(documentText)\n",
        "    results.append([file, name, date, amount])\n",
        "\n",
        "# Display results using tabulate\n",
        "headers = ['File Name', 'Name', 'Date', 'Amount']\n",
        "print(tabulate(results, headers=headers, tablefmt='grid'))\n"
      ],
      "metadata": {
        "colab": {
          "base_uri": "https://localhost:8080/"
        },
        "id": "B7XSw0RgUlgH",
        "outputId": "b1800b00-1327-4c30-cf5e-5dfe47125baf"
      },
      "execution_count": 23,
      "outputs": [
        {
          "output_type": "stream",
          "name": "stdout",
          "text": [
            "+-------------+----------------------+------------+----------+\n",
            "| File Name   | Name                 | Date       |   Amount |\n",
            "+=============+======================+============+==========+\n",
            "| AC 1.pdf    | RYAN GOLDSTEIN       | 27-09-2023 |  2037    |\n",
            "+-------------+----------------------+------------+----------+\n",
            "| AC 2.pdf    | ATTYA AND YASSK      | 26-09-2023 |  1209.47 |\n",
            "+-------------+----------------------+------------+----------+\n",
            "| AC 3.pdf    | ABDELKARIM EL FAOUZI | 20-09-2023 |  2037    |\n",
            "+-------------+----------------------+------------+----------+\n"
          ]
        }
      ]
    },
    {
      "cell_type": "markdown",
      "source": [
        "# **PERFECT YOUR THE MAN**"
      ],
      "metadata": {
        "id": "KZTdloVqWNo1"
      }
    }
  ]
}