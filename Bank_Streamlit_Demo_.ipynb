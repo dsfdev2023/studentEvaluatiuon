{
  "cells": [
    {
      "cell_type": "markdown",
      "metadata": {
        "id": "view-in-github",
        "colab_type": "text"
      },
      "source": [
        "<a href=\"https://colab.research.google.com/github/dsfdev2023/studentEvaluatiuon/blob/main/Bank_Streamlit_Demo_.ipynb\" target=\"_parent\"><img src=\"https://colab.research.google.com/assets/colab-badge.svg\" alt=\"Open In Colab\"/></a>"
      ]
    },
    {
      "cell_type": "markdown",
      "metadata": {
        "id": "GRUmax9KHgJn"
      },
      "source": [
        "# **Install necessary packages:**\n",
        "\n"
      ]
    },
    {
      "cell_type": "code",
      "execution_count": 25,
      "metadata": {
        "colab": {
          "base_uri": "https://localhost:8080/"
        },
        "id": "XWDOgVH0HGVj",
        "outputId": "f34a8797-9db5-4032-b17e-a7f669ff9a9a"
      },
      "outputs": [
        {
          "output_type": "stream",
          "name": "stdout",
          "text": [
            "Requirement already satisfied: PyPDF2 in /usr/local/lib/python3.10/dist-packages (3.0.1)\n",
            "Requirement already satisfied: tabulate in /usr/local/lib/python3.10/dist-packages (0.9.0)\n",
            "Requirement already satisfied: streamlit in /usr/local/lib/python3.10/dist-packages (1.28.0)\n",
            "Requirement already satisfied: altair<6,>=4.0 in /usr/local/lib/python3.10/dist-packages (from streamlit) (4.2.2)\n",
            "Requirement already satisfied: blinker<2,>=1.0.0 in /usr/lib/python3/dist-packages (from streamlit) (1.4)\n",
            "Requirement already satisfied: cachetools<6,>=4.0 in /usr/local/lib/python3.10/dist-packages (from streamlit) (5.3.2)\n",
            "Requirement already satisfied: click<9,>=7.0 in /usr/local/lib/python3.10/dist-packages (from streamlit) (8.1.7)\n",
            "Requirement already satisfied: importlib-metadata<7,>=1.4 in /usr/local/lib/python3.10/dist-packages (from streamlit) (6.8.0)\n",
            "Requirement already satisfied: numpy<2,>=1.19.3 in /usr/local/lib/python3.10/dist-packages (from streamlit) (1.23.5)\n",
            "Requirement already satisfied: packaging<24,>=16.8 in /usr/local/lib/python3.10/dist-packages (from streamlit) (23.2)\n",
            "Requirement already satisfied: pandas<3,>=1.3.0 in /usr/local/lib/python3.10/dist-packages (from streamlit) (1.5.3)\n",
            "Requirement already satisfied: pillow<11,>=7.1.0 in /usr/local/lib/python3.10/dist-packages (from streamlit) (9.4.0)\n",
            "Requirement already satisfied: protobuf<5,>=3.20 in /usr/local/lib/python3.10/dist-packages (from streamlit) (3.20.3)\n",
            "Requirement already satisfied: pyarrow>=6.0 in /usr/local/lib/python3.10/dist-packages (from streamlit) (9.0.0)\n",
            "Requirement already satisfied: python-dateutil<3,>=2.7.3 in /usr/local/lib/python3.10/dist-packages (from streamlit) (2.8.2)\n",
            "Requirement already satisfied: requests<3,>=2.27 in /usr/local/lib/python3.10/dist-packages (from streamlit) (2.31.0)\n",
            "Requirement already satisfied: rich<14,>=10.14.0 in /usr/local/lib/python3.10/dist-packages (from streamlit) (13.6.0)\n",
            "Requirement already satisfied: tenacity<9,>=8.1.0 in /usr/local/lib/python3.10/dist-packages (from streamlit) (8.2.3)\n",
            "Requirement already satisfied: toml<2,>=0.10.1 in /usr/local/lib/python3.10/dist-packages (from streamlit) (0.10.2)\n",
            "Requirement already satisfied: typing-extensions<5,>=4.3.0 in /usr/local/lib/python3.10/dist-packages (from streamlit) (4.5.0)\n",
            "Requirement already satisfied: tzlocal<6,>=1.1 in /usr/local/lib/python3.10/dist-packages (from streamlit) (5.2)\n",
            "Requirement already satisfied: validators<1,>=0.2 in /usr/local/lib/python3.10/dist-packages (from streamlit) (0.22.0)\n",
            "Requirement already satisfied: gitpython!=3.1.19,<4,>=3.0.7 in /usr/local/lib/python3.10/dist-packages (from streamlit) (3.1.40)\n",
            "Requirement already satisfied: pydeck<1,>=0.8.0b4 in /usr/local/lib/python3.10/dist-packages (from streamlit) (0.8.1b0)\n",
            "Requirement already satisfied: tornado<7,>=6.0.3 in /usr/local/lib/python3.10/dist-packages (from streamlit) (6.3.2)\n",
            "Requirement already satisfied: watchdog>=2.1.5 in /usr/local/lib/python3.10/dist-packages (from streamlit) (3.0.0)\n",
            "Requirement already satisfied: entrypoints in /usr/local/lib/python3.10/dist-packages (from altair<6,>=4.0->streamlit) (0.4)\n",
            "Requirement already satisfied: jinja2 in /usr/local/lib/python3.10/dist-packages (from altair<6,>=4.0->streamlit) (3.1.2)\n",
            "Requirement already satisfied: jsonschema>=3.0 in /usr/local/lib/python3.10/dist-packages (from altair<6,>=4.0->streamlit) (4.19.1)\n",
            "Requirement already satisfied: toolz in /usr/local/lib/python3.10/dist-packages (from altair<6,>=4.0->streamlit) (0.12.0)\n",
            "Requirement already satisfied: gitdb<5,>=4.0.1 in /usr/local/lib/python3.10/dist-packages (from gitpython!=3.1.19,<4,>=3.0.7->streamlit) (4.0.11)\n",
            "Requirement already satisfied: zipp>=0.5 in /usr/local/lib/python3.10/dist-packages (from importlib-metadata<7,>=1.4->streamlit) (3.17.0)\n",
            "Requirement already satisfied: pytz>=2020.1 in /usr/local/lib/python3.10/dist-packages (from pandas<3,>=1.3.0->streamlit) (2023.3.post1)\n",
            "Requirement already satisfied: six>=1.5 in /usr/local/lib/python3.10/dist-packages (from python-dateutil<3,>=2.7.3->streamlit) (1.16.0)\n",
            "Requirement already satisfied: charset-normalizer<4,>=2 in /usr/local/lib/python3.10/dist-packages (from requests<3,>=2.27->streamlit) (3.3.1)\n",
            "Requirement already satisfied: idna<4,>=2.5 in /usr/local/lib/python3.10/dist-packages (from requests<3,>=2.27->streamlit) (3.4)\n",
            "Requirement already satisfied: urllib3<3,>=1.21.1 in /usr/local/lib/python3.10/dist-packages (from requests<3,>=2.27->streamlit) (2.0.7)\n",
            "Requirement already satisfied: certifi>=2017.4.17 in /usr/local/lib/python3.10/dist-packages (from requests<3,>=2.27->streamlit) (2023.7.22)\n",
            "Requirement already satisfied: markdown-it-py>=2.2.0 in /usr/local/lib/python3.10/dist-packages (from rich<14,>=10.14.0->streamlit) (3.0.0)\n",
            "Requirement already satisfied: pygments<3.0.0,>=2.13.0 in /usr/local/lib/python3.10/dist-packages (from rich<14,>=10.14.0->streamlit) (2.16.1)\n",
            "Requirement already satisfied: smmap<6,>=3.0.1 in /usr/local/lib/python3.10/dist-packages (from gitdb<5,>=4.0.1->gitpython!=3.1.19,<4,>=3.0.7->streamlit) (5.0.1)\n",
            "Requirement already satisfied: MarkupSafe>=2.0 in /usr/local/lib/python3.10/dist-packages (from jinja2->altair<6,>=4.0->streamlit) (2.1.3)\n",
            "Requirement already satisfied: attrs>=22.2.0 in /usr/local/lib/python3.10/dist-packages (from jsonschema>=3.0->altair<6,>=4.0->streamlit) (23.1.0)\n",
            "Requirement already satisfied: jsonschema-specifications>=2023.03.6 in /usr/local/lib/python3.10/dist-packages (from jsonschema>=3.0->altair<6,>=4.0->streamlit) (2023.7.1)\n",
            "Requirement already satisfied: referencing>=0.28.4 in /usr/local/lib/python3.10/dist-packages (from jsonschema>=3.0->altair<6,>=4.0->streamlit) (0.30.2)\n",
            "Requirement already satisfied: rpds-py>=0.7.1 in /usr/local/lib/python3.10/dist-packages (from jsonschema>=3.0->altair<6,>=4.0->streamlit) (0.10.6)\n",
            "Requirement already satisfied: mdurl~=0.1 in /usr/local/lib/python3.10/dist-packages (from markdown-it-py>=2.2.0->rich<14,>=10.14.0->streamlit) (0.1.2)\n"
          ]
        }
      ],
      "source": [
        "!pip install PyPDF2 tabulate streamlit"
      ]
    },
    {
      "cell_type": "code",
      "execution_count": 26,
      "metadata": {
        "colab": {
          "base_uri": "https://localhost:8080/"
        },
        "id": "fs9tHFdyHkaT",
        "outputId": "891df23e-89ba-4d45-a30c-74cfa47de53e"
      },
      "outputs": [
        {
          "output_type": "stream",
          "name": "stdout",
          "text": [
            "Requirement already satisfied: pyngrok in /usr/local/lib/python3.10/dist-packages (7.0.0)\n",
            "Requirement already satisfied: PyYAML in /usr/local/lib/python3.10/dist-packages (from pyngrok) (6.0.1)\n"
          ]
        }
      ],
      "source": [
        "!pip install pyngrok"
      ]
    },
    {
      "cell_type": "code",
      "execution_count": 27,
      "metadata": {
        "colab": {
          "base_uri": "https://localhost:8080/"
        },
        "id": "HKZU0EuwHp6Z",
        "outputId": "0120bc32-2979-4ca2-9552-0f12aa39f9a4"
      },
      "outputs": [
        {
          "output_type": "stream",
          "name": "stdout",
          "text": [
            "Requirement already satisfied: pandas in /usr/local/lib/python3.10/dist-packages (1.5.3)\n",
            "Requirement already satisfied: openpyxl in /usr/local/lib/python3.10/dist-packages (3.1.2)\n",
            "Requirement already satisfied: python-dateutil>=2.8.1 in /usr/local/lib/python3.10/dist-packages (from pandas) (2.8.2)\n",
            "Requirement already satisfied: pytz>=2020.1 in /usr/local/lib/python3.10/dist-packages (from pandas) (2023.3.post1)\n",
            "Requirement already satisfied: numpy>=1.21.0 in /usr/local/lib/python3.10/dist-packages (from pandas) (1.23.5)\n",
            "Requirement already satisfied: et-xmlfile in /usr/local/lib/python3.10/dist-packages (from openpyxl) (1.1.0)\n",
            "Requirement already satisfied: six>=1.5 in /usr/local/lib/python3.10/dist-packages (from python-dateutil>=2.8.1->pandas) (1.16.0)\n"
          ]
        }
      ],
      "source": [
        "!pip install pandas openpyxl"
      ]
    },
    {
      "cell_type": "code",
      "execution_count": 28,
      "metadata": {
        "colab": {
          "base_uri": "https://localhost:8080/"
        },
        "id": "_wNhw7jNHsbE",
        "outputId": "50e8d0c7-7437-4e59-accd-5d4c58e817d6"
      },
      "outputs": [
        {
          "output_type": "stream",
          "name": "stdout",
          "text": [
            "Requirement already satisfied: altair in /usr/local/lib/python3.10/dist-packages (4.2.2)\n",
            "Requirement already satisfied: entrypoints in /usr/local/lib/python3.10/dist-packages (from altair) (0.4)\n",
            "Requirement already satisfied: jinja2 in /usr/local/lib/python3.10/dist-packages (from altair) (3.1.2)\n",
            "Requirement already satisfied: jsonschema>=3.0 in /usr/local/lib/python3.10/dist-packages (from altair) (4.19.1)\n",
            "Requirement already satisfied: numpy in /usr/local/lib/python3.10/dist-packages (from altair) (1.23.5)\n",
            "Requirement already satisfied: pandas>=0.18 in /usr/local/lib/python3.10/dist-packages (from altair) (1.5.3)\n",
            "Requirement already satisfied: toolz in /usr/local/lib/python3.10/dist-packages (from altair) (0.12.0)\n",
            "Requirement already satisfied: attrs>=22.2.0 in /usr/local/lib/python3.10/dist-packages (from jsonschema>=3.0->altair) (23.1.0)\n",
            "Requirement already satisfied: jsonschema-specifications>=2023.03.6 in /usr/local/lib/python3.10/dist-packages (from jsonschema>=3.0->altair) (2023.7.1)\n",
            "Requirement already satisfied: referencing>=0.28.4 in /usr/local/lib/python3.10/dist-packages (from jsonschema>=3.0->altair) (0.30.2)\n",
            "Requirement already satisfied: rpds-py>=0.7.1 in /usr/local/lib/python3.10/dist-packages (from jsonschema>=3.0->altair) (0.10.6)\n",
            "Requirement already satisfied: python-dateutil>=2.8.1 in /usr/local/lib/python3.10/dist-packages (from pandas>=0.18->altair) (2.8.2)\n",
            "Requirement already satisfied: pytz>=2020.1 in /usr/local/lib/python3.10/dist-packages (from pandas>=0.18->altair) (2023.3.post1)\n",
            "Requirement already satisfied: MarkupSafe>=2.0 in /usr/local/lib/python3.10/dist-packages (from jinja2->altair) (2.1.3)\n",
            "Requirement already satisfied: six>=1.5 in /usr/local/lib/python3.10/dist-packages (from python-dateutil>=2.8.1->pandas>=0.18->altair) (1.16.0)\n"
          ]
        }
      ],
      "source": [
        "!pip install altair"
      ]
    },
    {
      "cell_type": "code",
      "execution_count": 29,
      "metadata": {
        "colab": {
          "base_uri": "https://localhost:8080/"
        },
        "id": "32oj-CVAHuj2",
        "outputId": "ee268754-3c93-428d-dc40-59baf85e23d2"
      },
      "outputs": [
        {
          "output_type": "stream",
          "name": "stdout",
          "text": [
            "Requirement already satisfied: Whoosh in /usr/local/lib/python3.10/dist-packages (2.7.4)\n"
          ]
        }
      ],
      "source": [
        "!pip install Whoosh"
      ]
    },
    {
      "cell_type": "markdown",
      "metadata": {
        "id": "cMB4tFS7H9uN"
      },
      "source": [
        "# **CODE FOR STREAMLIT**"
      ]
    },
    {
      "cell_type": "code",
      "execution_count": 46,
      "metadata": {
        "colab": {
          "base_uri": "https://localhost:8080/"
        },
        "id": "un7hk8Llto4F",
        "outputId": "9f54b94a-a465-4129-e32b-0f642703d0be"
      },
      "outputs": [
        {
          "output_type": "stream",
          "name": "stdout",
          "text": [
            "Overwriting streamlit_app.py\n"
          ]
        }
      ],
      "source": [
        "%%writefile streamlit_app.py\n",
        "\n",
        "import streamlit as st\n",
        "import pandas as pd\n",
        "import PyPDF2\n",
        "import re\n",
        "import os\n",
        "import altair as alt\n",
        "from whoosh.index import create_in\n",
        "from whoosh.fields import *\n",
        "from whoosh.writing import BufferedWriter\n",
        "from whoosh.qparser import QueryParser\n",
        "from io import BytesIO\n",
        "import base64\n",
        "\n",
        "def extract_text_from_pdf(pdf_content):\n",
        "    reader = PyPDF2.PdfReader(pdf_content)\n",
        "    text = ''\n",
        "    for page in reader.pages:\n",
        "        text += page.extract_text()\n",
        "    return text\n",
        "\n",
        "def format_date(date_str):\n",
        "    return f\"{date_str[:2]}-{date_str[2:4]}-{date_str[4:]}\"\n",
        "\n",
        "def extract_info(documentText):\n",
        "    name_match = re.search(r'M\\s+([A-Z\\s]+)', documentText)\n",
        "    extractedName = name_match.group(1).strip() if name_match else None\n",
        "\n",
        "    date_match = re.search(r'\\b(\\d{7,8})\\b', documentText)\n",
        "    extractedDate = format_date(date_match.group(1)) if date_match else None\n",
        "\n",
        "    all_amount_matches = re.findall(r'(\\d{1,3}(?:\\s\\d{3})*,\\d{2})', documentText)\n",
        "    extractedAmount = all_amount_matches[-1].replace(' ', '').replace(',', '.') if all_amount_matches else None\n",
        "\n",
        "    return extractedName, extractedDate, extractedAmount\n",
        "\n",
        "button_css = \"\"\"\n",
        "<style>\n",
        "    .pdf-btn, .excel-btn {\n",
        "        color: white !important;\n",
        "    }\n",
        "\n",
        "    .pdf-btn {\n",
        "        background-color: #008CBA;\n",
        "        padding: 14px 28px;\n",
        "        font-size: 16px;\n",
        "        cursor: pointer;\n",
        "        border: none;\n",
        "        border-radius: 8px;\n",
        "        text-decoration: none;\n",
        "        font-weight: bold;\n",
        "        display: inline-block;\n",
        "    }\n",
        "    .pdf-btn:hover {\n",
        "        background-color: #007B9A;\n",
        "    }\n",
        "\n",
        "    .excel-btn {\n",
        "        background-color: #4CAF50;\n",
        "        padding: 14px 28px;\n",
        "        font-size: 16px;\n",
        "        cursor: pointer;\n",
        "        border: none;\n",
        "        border-radius: 8px;\n",
        "        text-decoration: none;\n",
        "        font-weight: bold;\n",
        "        display: inline-block;\n",
        "    }\n",
        "    .excel-btn:hover {\n",
        "        background-color: #45a049;\n",
        "    }\n",
        "</style>\n",
        "\"\"\"\n",
        "\n",
        "def get_pdf_download_link(pdf_content, filename='document.pdf', text='Download PDF file'):\n",
        "    b64 = base64.b64encode(pdf_content)\n",
        "    return button_css + f'<a class=\"pdf-btn\" href=\"data:application/pdf;base64,{b64.decode()}\" download=\"{filename}\">{text}</a>'\n",
        "\n",
        "def get_table_download_link(df, filename=\"data.xlsx\", text=\"Download Excel\"):\n",
        "    output = BytesIO()\n",
        "    writer = pd.ExcelWriter(output, engine='openpyxl')\n",
        "    df.to_excel(writer, index=False)\n",
        "    writer.save()\n",
        "    processed_data = output.getvalue()\n",
        "    b64 = base64.b64encode(processed_data).decode()\n",
        "    href = button_css + f'<a class=\"excel-btn\" href=\"data:application/vnd.openxmlformats-officedocument.spreadsheetml.sheet;base64,{b64}\" download=\"{filename}\">{text}</a>'\n",
        "    return href\n",
        "\n",
        "st.title(\"DSF Smart Doc: BMCE Case\")\n",
        "\n",
        "schema = Schema(title=TEXT(stored=True), content=TEXT(stored=True))\n",
        "if not os.path.exists(\"indexdir\"):\n",
        "    os.mkdir(\"indexdir\")\n",
        "ix = create_in(\"indexdir\", schema)\n",
        "\n",
        "uploaded_files = st.file_uploader(\"Please Upload your PDF files\", type=[\"pdf\"], accept_multiple_files=True)\n",
        "\n",
        "if uploaded_files:\n",
        "    num_files = len(uploaded_files)\n",
        "    st.success(f\"{num_files} file{'s' if num_files > 1 else ''} successfully uploaded!\")\n",
        "    results = []\n",
        "\n",
        "    writer = BufferedWriter(ix)\n",
        "    for uploaded_file in uploaded_files:\n",
        "        documentText = extract_text_from_pdf(uploaded_file)\n",
        "        writer.add_document(title=uploaded_file.name, content=documentText)\n",
        "\n",
        "        name, date, amount = extract_info(documentText)\n",
        "        results.append([uploaded_file.name, name, date, amount])\n",
        "\n",
        "    writer.commit()\n",
        "    writer.close()\n",
        "\n",
        "    headers = ['File Name', 'Name', 'Date', 'Amount']\n",
        "    df = pd.DataFrame(results, columns=headers)\n",
        "    st.write(df)\n",
        "    st.markdown(get_table_download_link(df), unsafe_allow_html=True)\n",
        "\n",
        "    df['Date'] = pd.to_datetime(df['Date'], format='%d-%m-%Y', errors='coerce')\n",
        "    df['Amount'] = df['Amount'].str.replace(',', '.').astype(float)\n",
        "\n",
        "    st.subheader(\"Amounts over Time by Client\")\n",
        "    for client in df['Name'].unique():\n",
        "        client_data = df[df['Name'] == client]\n",
        "        if len(client_data) > 1:\n",
        "            line_chart = alt.Chart(client_data).mark_line(point=True, color='blue').encode(\n",
        "                x=alt.X('Date:T', title='Date'),\n",
        "                y=alt.Y('Amount:Q', title='Amount in Dirhams'),\n",
        "                tooltip=[alt.Tooltip('Date:T', title='Date'), alt.Tooltip('Amount:Q', title='Amount (Dirhams)', format='.2f')]\n",
        "            ).properties(\n",
        "                title=f\"Amounts over Time for {client}\",\n",
        "                width=800,\n",
        "                height=600\n",
        "            ).interactive()\n",
        "            st.altair_chart(line_chart, use_container_width=True)\n",
        "        else:\n",
        "            st.write(f\"{client} has only one transaction on {client_data['Date'].iloc[0].strftime('%Y-%m-%d')} with an amount of {client_data['Amount'].iloc[0]} Dirhams\")\n",
        "\n",
        "    st.subheader(\"Summary: Total Amounts by Client in Dirhams\")\n",
        "    grouped_data = df.groupby('Name').agg({'Amount': 'sum'}).reset_index()\n",
        "    grouped_data['Amount'] = grouped_data['Amount'].apply(lambda x: f\"{x:,.2f}\")  # Format with 2 decimal places\n",
        "    st.table(grouped_data)\n",
        "\n",
        "\n",
        "\n",
        "\n",
        "st.subheader(\"Digital Archive\")\n",
        "\n",
        "# Input for searching keywords\n",
        "search_term = st.text_input(\"Search keywords to find the corresponding PDFs\")\n",
        "\n",
        "if search_term:\n",
        "    # Create a container for the search results\n",
        "    results_container = st.container()\n",
        "\n",
        "    with ix.searcher() as searcher:\n",
        "        query = QueryParser(\"content\", ix.schema).parse(search_term)\n",
        "        results = searcher.search(query, limit=None)\n",
        "\n",
        "        # Check if there are any results\n",
        "        if len(results) == 0:\n",
        "            results_container.error(\"No results found.\")\n",
        "        else:\n",
        "            results_container.success(f\"{len(results)} results found:\")\n",
        "\n",
        "            # Create a container for displaying the search results\n",
        "            results_list = results_container.container()\n",
        "\n",
        "            # Iterate through the search results and display them\n",
        "            for hit in results:\n",
        "                pdf_name = hit['title']\n",
        "                uploaded_file = next(upload for upload in uploaded_files if upload.name == pdf_name)\n",
        "                uploaded_file.seek(0)  # Reset the file pointer to the beginning\n",
        "                pdf_content = uploaded_file.read()\n",
        "\n",
        "                # Create a container for each search result\n",
        "                result_item = results_list.container()\n",
        "\n",
        "                # Display PDF Name and a download button for each result\n",
        "                result_item.write(f\"PDF Name: {pdf_name}\")\n",
        "                result_item.markdown(get_pdf_download_link(pdf_content, filename=pdf_name), unsafe_allow_html=True)\n"
      ]
    },
    {
      "cell_type": "markdown",
      "metadata": {
        "id": "rAN_kAv1IKOF"
      },
      "source": [
        "# **RUN STREAMLIT**"
      ]
    },
    {
      "cell_type": "code",
      "execution_count": 31,
      "metadata": {
        "colab": {
          "base_uri": "https://localhost:8080/"
        },
        "id": "YQRp9Ku3ING6",
        "outputId": "8cc6c746-1386-4b7e-8bc4-a798ccfde7a5"
      },
      "outputs": [
        {
          "output_type": "stream",
          "name": "stdout",
          "text": [
            "Authtoken saved to configuration file: /root/.ngrok2/ngrok.yml\n"
          ]
        }
      ],
      "source": [
        "import os\n",
        "\n",
        "# Download and unzip ngrok only if it doesn't exist yet\n",
        "if not os.path.exists(\"ngrok-stable-linux-amd64.zip\"):\n",
        "    !wget https://bin.equinox.io/c/4VmDzA7iaHb/ngrok-stable-linux-amd64.zip\n",
        "    !unzip -o ngrok-stable-linux-amd64.zip\n",
        "\n",
        "# Authenticate with ngrok using your auth token\n",
        "!./ngrok authtoken 2Wtkkzkovj51i2fQ8MUCQrf7DyT_7cft4ztcihL3M9MvpsKdC\n"
      ]
    },
    {
      "cell_type": "code",
      "execution_count": 47,
      "metadata": {
        "colab": {
          "base_uri": "https://localhost:8080/"
        },
        "id": "yBHzJYiOIVw1",
        "outputId": "13460d83-b364-4a3f-a45a-49ddddb05c51"
      },
      "outputs": [
        {
          "output_type": "stream",
          "name": "stdout",
          "text": [
            "https://2891-34-170-223-197.ngrok-free.app\n"
          ]
        }
      ],
      "source": [
        "# Start ngrok for the Streamlit port 8501\n",
        "get_ipython().system_raw('./ngrok http 8501 &')\n",
        "!sleep 2  # Wait a couple of seconds for the tunnel to be established\n",
        "\n",
        "# Fetch and print the public URL\n",
        "public_url = !curl -s http://localhost:4040/api/tunnels | python3 -c \\\n",
        "    \"import sys, json; tunnels = json.load(sys.stdin)['tunnels']; print(tunnels[0]['public_url'] if tunnels else '')\"\n",
        "print(public_url[0])"
      ]
    },
    {
      "cell_type": "code",
      "execution_count": null,
      "metadata": {
        "colab": {
          "base_uri": "https://localhost:8080/"
        },
        "id": "ysKY3NgzIWer",
        "outputId": "f61ffba8-df4b-407b-fd7b-9b6a9c9ad45e"
      },
      "outputs": [
        {
          "output_type": "stream",
          "name": "stdout",
          "text": [
            "\n",
            "Collecting usage statistics. To deactivate, set browser.gatherUsageStats to False.\n",
            "\u001b[0m\n",
            "\u001b[0m\n",
            "\u001b[34m\u001b[1m  You can now view your Streamlit app in your browser.\u001b[0m\n",
            "\u001b[0m\n",
            "\u001b[34m  Network URL: \u001b[0m\u001b[1mhttp://172.28.0.12:8501\u001b[0m\n",
            "\u001b[34m  External URL: \u001b[0m\u001b[1mhttp://34.170.223.197:8501\u001b[0m\n",
            "\u001b[0m\n",
            "/content/streamlit_app.py:83: FutureWarning: save is not part of the public API, usage can give unexpected results and will be removed in a future version\n",
            "  writer.save()\n",
            "/content/streamlit_app.py:83: FutureWarning: save is not part of the public API, usage can give unexpected results and will be removed in a future version\n",
            "  writer.save()\n",
            "/content/streamlit_app.py:83: FutureWarning: save is not part of the public API, usage can give unexpected results and will be removed in a future version\n",
            "  writer.save()\n",
            "/content/streamlit_app.py:83: FutureWarning: save is not part of the public API, usage can give unexpected results and will be removed in a future version\n",
            "  writer.save()\n",
            "/content/streamlit_app.py:83: FutureWarning: save is not part of the public API, usage can give unexpected results and will be removed in a future version\n",
            "  writer.save()\n",
            "/content/streamlit_app.py:83: FutureWarning: save is not part of the public API, usage can give unexpected results and will be removed in a future version\n",
            "  writer.save()\n",
            "/content/streamlit_app.py:83: FutureWarning: save is not part of the public API, usage can give unexpected results and will be removed in a future version\n",
            "  writer.save()\n"
          ]
        }
      ],
      "source": [
        "!streamlit run streamlit_app.py\n"
      ]
    }
  ],
  "metadata": {
    "colab": {
      "provenance": [],
      "authorship_tag": "ABX9TyP/OBPzQPhn4zS2xeuK0Z85",
      "include_colab_link": true
    },
    "kernelspec": {
      "display_name": "Python 3",
      "name": "python3"
    },
    "language_info": {
      "name": "python"
    }
  },
  "nbformat": 4,
  "nbformat_minor": 0
}