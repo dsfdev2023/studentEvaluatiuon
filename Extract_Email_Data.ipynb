{
  "nbformat": 4,
  "nbformat_minor": 0,
  "metadata": {
    "colab": {
      "provenance": [],
      "authorship_tag": "ABX9TyM+1VIlMBwANq7ufSX+OQJ3",
      "include_colab_link": true
    },
    "kernelspec": {
      "name": "python3",
      "display_name": "Python 3"
    },
    "language_info": {
      "name": "python"
    }
  },
  "cells": [
    {
      "cell_type": "markdown",
      "metadata": {
        "id": "view-in-github",
        "colab_type": "text"
      },
      "source": [
        "<a href=\"https://colab.research.google.com/github/dsfdev2023/studentEvaluatiuon/blob/main/Extract_Email_Data.ipynb\" target=\"_parent\"><img src=\"https://colab.research.google.com/assets/colab-badge.svg\" alt=\"Open In Colab\"/></a>"
      ]
    },
    {
      "cell_type": "code",
      "source": [
        "!pip install pypdf2\n"
      ],
      "metadata": {
        "colab": {
          "base_uri": "https://localhost:8080/"
        },
        "id": "jV41tOcO7rDU",
        "outputId": "9b45a5ca-26f1-4d39-db70-6f957d22d802"
      },
      "execution_count": 2,
      "outputs": [
        {
          "output_type": "stream",
          "name": "stdout",
          "text": [
            "Collecting pypdf2\n",
            "  Downloading pypdf2-3.0.1-py3-none-any.whl (232 kB)\n",
            "\u001b[?25l     \u001b[90m━━━━━━━━━━━━━━━━━━━━━━━━━━━━━━━━━━━━━━━━\u001b[0m \u001b[32m0.0/232.6 kB\u001b[0m \u001b[31m?\u001b[0m eta \u001b[36m-:--:--\u001b[0m\r\u001b[2K     \u001b[90m━━━━━━━━━━━━━━━━━━━━━━━━━━━━━━━━━━━━━━━\u001b[0m \u001b[32m232.6/232.6 kB\u001b[0m \u001b[31m7.0 MB/s\u001b[0m eta \u001b[36m0:00:00\u001b[0m\n",
            "\u001b[?25hInstalling collected packages: pypdf2\n",
            "Successfully installed pypdf2-3.0.1\n"
          ]
        }
      ]
    },
    {
      "cell_type": "code",
      "source": [
        "!pip install tabulate\n"
      ],
      "metadata": {
        "colab": {
          "base_uri": "https://localhost:8080/"
        },
        "id": "FiWcCNdz8yvy",
        "outputId": "badf731e-ff7e-4543-ed69-1d652fb1cc8c"
      },
      "execution_count": 6,
      "outputs": [
        {
          "output_type": "stream",
          "name": "stdout",
          "text": [
            "Requirement already satisfied: tabulate in /usr/local/lib/python3.10/dist-packages (0.9.0)\n"
          ]
        }
      ]
    },
    {
      "cell_type": "code",
      "source": [
        "# Import necessary libraries\n",
        "import os\n",
        "import re\n",
        "from tabulate import tabulate\n",
        "import PyPDF2\n",
        "from google.colab import drive\n",
        "\n",
        "# Mount Google Drive\n",
        "drive.mount('/content/drive')\n",
        "\n",
        "# Define path to the folder containing the PDFs\n",
        "pdf_folder = '/content/drive/MyDrive/dataset Classification/Email'\n",
        "\n",
        "# Extract text from PDFs\n",
        "def extract_text_from_pdf(pdf_path):\n",
        "    with open(pdf_path, 'rb') as file:\n",
        "        reader = PyPDF2.PdfReader(file)\n",
        "        text = \"\"\n",
        "        for page in reader.pages:\n",
        "            text += page.extract_text()\n",
        "    return text\n",
        "\n",
        "# Extract data using regular expressions\n",
        "def extract_email_data(text):\n",
        "    from_ = re.search(r'from:\\s*(.*)', text, re.I)\n",
        "    to_ = re.search(r'to:\\s*(.*)', text, re.I)\n",
        "    object_ = re.search(r'object:\\s*(.*)', text, re.I)\n",
        "\n",
        "    return [\n",
        "        from_.group(1) if from_ else None,\n",
        "        to_.group(1) if to_ else None,\n",
        "        object_.group(1) if object_ else None\n",
        "    ]\n",
        "\n",
        "# Collecting data in a list\n",
        "data = []\n",
        "\n",
        "# Iterate over all PDFs in the folder and extract data\n",
        "for filename in os.listdir(pdf_folder):\n",
        "    if filename.endswith('.pdf'):\n",
        "        pdf_path = os.path.join(pdf_folder, filename)\n",
        "        text = extract_text_from_pdf(pdf_path)\n",
        "        email_data = extract_email_data(text)\n",
        "        data.append(email_data)\n",
        "\n",
        "# Display data using tabulate\n",
        "headers = [\"From\", \"To\", \"Object\"]\n",
        "print(tabulate(data, headers=headers, tablefmt='grid'))\n"
      ],
      "metadata": {
        "colab": {
          "base_uri": "https://localhost:8080/"
        },
        "id": "eSnemWkX82CU",
        "outputId": "d442e836-eab4-4261-fc7a-00445e85759e"
      },
      "execution_count": 7,
      "outputs": [
        {
          "output_type": "stream",
          "name": "stdout",
          "text": [
            "Drive already mounted at /content/drive; to attempt to forcibly remount, call drive.mount(\"/content/drive\", force_remount=True).\n",
            "+-------------------------------------------------------------------------------------------+---------------------------------------------------------------------------------------------------+----------+\n",
            "| From                                                                                      | To                                                                                                | Object   |\n",
            "+===========================================================================================+===================================================================================================+==========+\n",
            "| Brandt, William                                                                           | Skillin, Anne; Catala, Louis V.; Lynch, Bill                                                      |          |\n",
            "+-------------------------------------------------------------------------------------------+---------------------------------------------------------------------------------------------------+----------+\n",
            "| , Paula H. on Fri, Dec 19, 1997 11:06 AM                                                  | Walcott, Maura                                                                                    |          |\n",
            "+-------------------------------------------------------------------------------------------+---------------------------------------------------------------------------------------------------+----------+\n",
            "|                                                                                           |                                                                                                   |          |\n",
            "+-------------------------------------------------------------------------------------------+---------------------------------------------------------------------------------------------------+----------+\n",
            "| Robinson, John                                                                            | Coagins, Chris                                                                                    |          |\n",
            "+-------------------------------------------------------------------------------------------+---------------------------------------------------------------------------------------------------+----------+\n",
            "| Mao, Yugian ¥.                                                                            | Galindo, Cheryl                                                                                   |          |\n",
            "+-------------------------------------------------------------------------------------------+---------------------------------------------------------------------------------------------------+----------+\n",
            "| Flanagan, Troy [mailto:mi{@gmabrands.com}                                                 | mi{@gmabrands.com}                                                                                |          |\n",
            "+-------------------------------------------------------------------------------------------+---------------------------------------------------------------------------------------------------+----------+\n",
            "| PMMC Deskdrop                                                                             |                                                                                                   |          |\n",
            "+-------------------------------------------------------------------------------------------+---------------------------------------------------------------------------------------------------+----------+\n",
            "| Reynolds, Juacane L.(RBM) 2300                                                            | Hickman, Tommy L.                                                                                 |          |\n",
            "+-------------------------------------------------------------------------------------------+---------------------------------------------------------------------------------------------------+----------+\n",
            "| Ken Fukuoka                                                                               | Tony Petree                                                                                       |          |\n",
            "+-------------------------------------------------------------------------------------------+---------------------------------------------------------------------------------------------------+----------+\n",
            "| Chaikin, Karen                                                                            | Desel, Paula                                                                                      |          |\n",
            "+-------------------------------------------------------------------------------------------+---------------------------------------------------------------------------------------------------+----------+\n",
            "| Levy, Carolyn J.                                                                          | Hamilton, Theresa                                                                                 |          |\n",
            "+-------------------------------------------------------------------------------------------+---------------------------------------------------------------------------------------------------+----------+\n",
            "| MeCarthy, Joanne                                                                          |                                                                                                   |          |\n",
            "+-------------------------------------------------------------------------------------------+---------------------------------------------------------------------------------------------------+----------+\n",
            "| Bryan Brown, Adam                                                                         | Smith, Jan Fulton                                                                                 |          |\n",
            "+-------------------------------------------------------------------------------------------+---------------------------------------------------------------------------------------------------+----------+\n",
            "|                                                                                           | Litigation Group, Discovery Steering Committee                                                    |          |\n",
            "+-------------------------------------------------------------------------------------------+---------------------------------------------------------------------------------------------------+----------+\n",
            "| Levy, Carolyn J.                                                                          | Crawford, Judy K.                                                                                 |          |\n",
            "+-------------------------------------------------------------------------------------------+---------------------------------------------------------------------------------------------------+----------+\n",
            "| Chaikin, Karen                                                                            | Nelson, Melodee L.                                                                                |          |\n",
            "+-------------------------------------------------------------------------------------------+---------------------------------------------------------------------------------------------------+----------+\n",
            "| Date:                                                                                     | Note for Girgado, Yamile Se                                                                       |          |\n",
            "+-------------------------------------------------------------------------------------------+---------------------------------------------------------------------------------------------------+----------+\n",
            "| Marion, Pam                                                                               | Joyner, Gwen B.                                                                                   |          |\n",
            "+-------------------------------------------------------------------------------------------+---------------------------------------------------------------------------------------------------+----------+\n",
            "| Smith, Jeannette W.                                                                       | Griscom, Tom C.; Littell, Greg 1... Nutting, Michael L.. Powell, John: Beasley, |ynn              |          |\n",
            "+-------------------------------------------------------------------------------------------+---------------------------------------------------------------------------------------------------+----------+\n",
            "| Marlo Bory [SMTP:mboryggmmmarketing.com]                                                  | May Nivar                                                                                         |          |\n",
            "+-------------------------------------------------------------------------------------------+---------------------------------------------------------------------------------------------------+----------+\n",
            "|                                                                                           | Hanson, Terry 0.; Sesterak, Cheryl L.; Farlow, Kimberlie J; Agee, Charlie;                        |          |\n",
            "+-------------------------------------------------------------------------------------------+---------------------------------------------------------------------------------------------------+----------+\n",
            "| </b=Mitchell, Marilyn<br><b>To: <’b>Brown, Lisa; Carpenter, Carolyn; Davis, Cindi; Guess, | <’b>Brown, Lisa; Carpenter, Carolyn; Davis, Cindi; Guess,                                         |          |\n",
            "+-------------------------------------------------------------------------------------------+---------------------------------------------------------------------------------------------------+----------+\n",
            "|                                                                                           | Jean Mahon/PhilipMorris/Bravo@Brevo                                                               |          |\n",
            "+-------------------------------------------------------------------------------------------+---------------------------------------------------------------------------------------------------+----------+\n",
            "| McAlpin, Loreen                                                                           | A. Lilly, Allen Kassman; Gregory Cummings; Hector Alonso; Richard Cox; Rick Solana; Urs Nyffeler; |          |\n",
            "+-------------------------------------------------------------------------------------------+---------------------------------------------------------------------------------------------------+----------+\n",
            "| Putney, Rebecca M.                                                                        | Gullotia, Frank P.; Tricker, Anthony; Jones, Jan (MDF); islesall@rivnet.net                       |          |\n",
            "+-------------------------------------------------------------------------------------------+---------------------------------------------------------------------------------------------------+----------+\n",
            "| Moskowitz, Seth W.                                                                        | Coggins, Chris                                                                                    |          |\n",
            "+-------------------------------------------------------------------------------------------+---------------------------------------------------------------------------------------------------+----------+\n"
          ]
        }
      ]
    },
    {
      "cell_type": "markdown",
      "source": [
        "## Named Entity Recognition (NER)"
      ],
      "metadata": {
        "id": "rHF6IEvU9kaT"
      }
    },
    {
      "cell_type": "code",
      "source": [
        "!pip install tabulate spacy\n",
        "!python -m spacy download en_core_web_sm\n"
      ],
      "metadata": {
        "colab": {
          "base_uri": "https://localhost:8080/"
        },
        "id": "EjTjQFtw9rA5",
        "outputId": "45aa968c-2c56-423b-96d5-8eb4ebda2a77"
      },
      "execution_count": 8,
      "outputs": [
        {
          "output_type": "stream",
          "name": "stdout",
          "text": [
            "Requirement already satisfied: tabulate in /usr/local/lib/python3.10/dist-packages (0.9.0)\n",
            "Requirement already satisfied: spacy in /usr/local/lib/python3.10/dist-packages (3.6.1)\n",
            "Requirement already satisfied: spacy-legacy<3.1.0,>=3.0.11 in /usr/local/lib/python3.10/dist-packages (from spacy) (3.0.12)\n",
            "Requirement already satisfied: spacy-loggers<2.0.0,>=1.0.0 in /usr/local/lib/python3.10/dist-packages (from spacy) (1.0.5)\n",
            "Requirement already satisfied: murmurhash<1.1.0,>=0.28.0 in /usr/local/lib/python3.10/dist-packages (from spacy) (1.0.10)\n",
            "Requirement already satisfied: cymem<2.1.0,>=2.0.2 in /usr/local/lib/python3.10/dist-packages (from spacy) (2.0.8)\n",
            "Requirement already satisfied: preshed<3.1.0,>=3.0.2 in /usr/local/lib/python3.10/dist-packages (from spacy) (3.0.9)\n",
            "Requirement already satisfied: thinc<8.2.0,>=8.1.8 in /usr/local/lib/python3.10/dist-packages (from spacy) (8.1.12)\n",
            "Requirement already satisfied: wasabi<1.2.0,>=0.9.1 in /usr/local/lib/python3.10/dist-packages (from spacy) (1.1.2)\n",
            "Requirement already satisfied: srsly<3.0.0,>=2.4.3 in /usr/local/lib/python3.10/dist-packages (from spacy) (2.4.8)\n",
            "Requirement already satisfied: catalogue<2.1.0,>=2.0.6 in /usr/local/lib/python3.10/dist-packages (from spacy) (2.0.10)\n",
            "Requirement already satisfied: typer<0.10.0,>=0.3.0 in /usr/local/lib/python3.10/dist-packages (from spacy) (0.9.0)\n",
            "Requirement already satisfied: pathy>=0.10.0 in /usr/local/lib/python3.10/dist-packages (from spacy) (0.10.2)\n",
            "Requirement already satisfied: smart-open<7.0.0,>=5.2.1 in /usr/local/lib/python3.10/dist-packages (from spacy) (6.4.0)\n",
            "Requirement already satisfied: tqdm<5.0.0,>=4.38.0 in /usr/local/lib/python3.10/dist-packages (from spacy) (4.66.1)\n",
            "Requirement already satisfied: numpy>=1.15.0 in /usr/local/lib/python3.10/dist-packages (from spacy) (1.23.5)\n",
            "Requirement already satisfied: requests<3.0.0,>=2.13.0 in /usr/local/lib/python3.10/dist-packages (from spacy) (2.31.0)\n",
            "Requirement already satisfied: pydantic!=1.8,!=1.8.1,<3.0.0,>=1.7.4 in /usr/local/lib/python3.10/dist-packages (from spacy) (1.10.13)\n",
            "Requirement already satisfied: jinja2 in /usr/local/lib/python3.10/dist-packages (from spacy) (3.1.2)\n",
            "Requirement already satisfied: setuptools in /usr/local/lib/python3.10/dist-packages (from spacy) (67.7.2)\n",
            "Requirement already satisfied: packaging>=20.0 in /usr/local/lib/python3.10/dist-packages (from spacy) (23.1)\n",
            "Requirement already satisfied: langcodes<4.0.0,>=3.2.0 in /usr/local/lib/python3.10/dist-packages (from spacy) (3.3.0)\n",
            "Requirement already satisfied: typing-extensions>=4.2.0 in /usr/local/lib/python3.10/dist-packages (from pydantic!=1.8,!=1.8.1,<3.0.0,>=1.7.4->spacy) (4.5.0)\n",
            "Requirement already satisfied: charset-normalizer<4,>=2 in /usr/local/lib/python3.10/dist-packages (from requests<3.0.0,>=2.13.0->spacy) (3.2.0)\n",
            "Requirement already satisfied: idna<4,>=2.5 in /usr/local/lib/python3.10/dist-packages (from requests<3.0.0,>=2.13.0->spacy) (3.4)\n",
            "Requirement already satisfied: urllib3<3,>=1.21.1 in /usr/local/lib/python3.10/dist-packages (from requests<3.0.0,>=2.13.0->spacy) (2.0.5)\n",
            "Requirement already satisfied: certifi>=2017.4.17 in /usr/local/lib/python3.10/dist-packages (from requests<3.0.0,>=2.13.0->spacy) (2023.7.22)\n",
            "Requirement already satisfied: blis<0.8.0,>=0.7.8 in /usr/local/lib/python3.10/dist-packages (from thinc<8.2.0,>=8.1.8->spacy) (0.7.11)\n",
            "Requirement already satisfied: confection<1.0.0,>=0.0.1 in /usr/local/lib/python3.10/dist-packages (from thinc<8.2.0,>=8.1.8->spacy) (0.1.3)\n",
            "Requirement already satisfied: click<9.0.0,>=7.1.1 in /usr/local/lib/python3.10/dist-packages (from typer<0.10.0,>=0.3.0->spacy) (8.1.7)\n",
            "Requirement already satisfied: MarkupSafe>=2.0 in /usr/local/lib/python3.10/dist-packages (from jinja2->spacy) (2.1.3)\n",
            "2023-10-03 23:54:26.091045: I tensorflow/core/platform/cpu_feature_guard.cc:182] This TensorFlow binary is optimized to use available CPU instructions in performance-critical operations.\n",
            "To enable the following instructions: AVX2 FMA, in other operations, rebuild TensorFlow with the appropriate compiler flags.\n",
            "2023-10-03 23:54:26.981753: W tensorflow/compiler/tf2tensorrt/utils/py_utils.cc:38] TF-TRT Warning: Could not find TensorRT\n",
            "Collecting en-core-web-sm==3.6.0\n",
            "  Downloading https://github.com/explosion/spacy-models/releases/download/en_core_web_sm-3.6.0/en_core_web_sm-3.6.0-py3-none-any.whl (12.8 MB)\n",
            "\u001b[2K     \u001b[90m━━━━━━━━━━━━━━━━━━━━━━━━━━━━━━━━━━━━━━━━\u001b[0m \u001b[32m12.8/12.8 MB\u001b[0m \u001b[31m73.6 MB/s\u001b[0m eta \u001b[36m0:00:00\u001b[0m\n",
            "\u001b[?25hRequirement already satisfied: spacy<3.7.0,>=3.6.0 in /usr/local/lib/python3.10/dist-packages (from en-core-web-sm==3.6.0) (3.6.1)\n",
            "Requirement already satisfied: spacy-legacy<3.1.0,>=3.0.11 in /usr/local/lib/python3.10/dist-packages (from spacy<3.7.0,>=3.6.0->en-core-web-sm==3.6.0) (3.0.12)\n",
            "Requirement already satisfied: spacy-loggers<2.0.0,>=1.0.0 in /usr/local/lib/python3.10/dist-packages (from spacy<3.7.0,>=3.6.0->en-core-web-sm==3.6.0) (1.0.5)\n",
            "Requirement already satisfied: murmurhash<1.1.0,>=0.28.0 in /usr/local/lib/python3.10/dist-packages (from spacy<3.7.0,>=3.6.0->en-core-web-sm==3.6.0) (1.0.10)\n",
            "Requirement already satisfied: cymem<2.1.0,>=2.0.2 in /usr/local/lib/python3.10/dist-packages (from spacy<3.7.0,>=3.6.0->en-core-web-sm==3.6.0) (2.0.8)\n",
            "Requirement already satisfied: preshed<3.1.0,>=3.0.2 in /usr/local/lib/python3.10/dist-packages (from spacy<3.7.0,>=3.6.0->en-core-web-sm==3.6.0) (3.0.9)\n",
            "Requirement already satisfied: thinc<8.2.0,>=8.1.8 in /usr/local/lib/python3.10/dist-packages (from spacy<3.7.0,>=3.6.0->en-core-web-sm==3.6.0) (8.1.12)\n",
            "Requirement already satisfied: wasabi<1.2.0,>=0.9.1 in /usr/local/lib/python3.10/dist-packages (from spacy<3.7.0,>=3.6.0->en-core-web-sm==3.6.0) (1.1.2)\n",
            "Requirement already satisfied: srsly<3.0.0,>=2.4.3 in /usr/local/lib/python3.10/dist-packages (from spacy<3.7.0,>=3.6.0->en-core-web-sm==3.6.0) (2.4.8)\n",
            "Requirement already satisfied: catalogue<2.1.0,>=2.0.6 in /usr/local/lib/python3.10/dist-packages (from spacy<3.7.0,>=3.6.0->en-core-web-sm==3.6.0) (2.0.10)\n",
            "Requirement already satisfied: typer<0.10.0,>=0.3.0 in /usr/local/lib/python3.10/dist-packages (from spacy<3.7.0,>=3.6.0->en-core-web-sm==3.6.0) (0.9.0)\n",
            "Requirement already satisfied: pathy>=0.10.0 in /usr/local/lib/python3.10/dist-packages (from spacy<3.7.0,>=3.6.0->en-core-web-sm==3.6.0) (0.10.2)\n",
            "Requirement already satisfied: smart-open<7.0.0,>=5.2.1 in /usr/local/lib/python3.10/dist-packages (from spacy<3.7.0,>=3.6.0->en-core-web-sm==3.6.0) (6.4.0)\n",
            "Requirement already satisfied: tqdm<5.0.0,>=4.38.0 in /usr/local/lib/python3.10/dist-packages (from spacy<3.7.0,>=3.6.0->en-core-web-sm==3.6.0) (4.66.1)\n",
            "Requirement already satisfied: numpy>=1.15.0 in /usr/local/lib/python3.10/dist-packages (from spacy<3.7.0,>=3.6.0->en-core-web-sm==3.6.0) (1.23.5)\n",
            "Requirement already satisfied: requests<3.0.0,>=2.13.0 in /usr/local/lib/python3.10/dist-packages (from spacy<3.7.0,>=3.6.0->en-core-web-sm==3.6.0) (2.31.0)\n",
            "Requirement already satisfied: pydantic!=1.8,!=1.8.1,<3.0.0,>=1.7.4 in /usr/local/lib/python3.10/dist-packages (from spacy<3.7.0,>=3.6.0->en-core-web-sm==3.6.0) (1.10.13)\n",
            "Requirement already satisfied: jinja2 in /usr/local/lib/python3.10/dist-packages (from spacy<3.7.0,>=3.6.0->en-core-web-sm==3.6.0) (3.1.2)\n",
            "Requirement already satisfied: setuptools in /usr/local/lib/python3.10/dist-packages (from spacy<3.7.0,>=3.6.0->en-core-web-sm==3.6.0) (67.7.2)\n",
            "Requirement already satisfied: packaging>=20.0 in /usr/local/lib/python3.10/dist-packages (from spacy<3.7.0,>=3.6.0->en-core-web-sm==3.6.0) (23.1)\n",
            "Requirement already satisfied: langcodes<4.0.0,>=3.2.0 in /usr/local/lib/python3.10/dist-packages (from spacy<3.7.0,>=3.6.0->en-core-web-sm==3.6.0) (3.3.0)\n",
            "Requirement already satisfied: typing-extensions>=4.2.0 in /usr/local/lib/python3.10/dist-packages (from pydantic!=1.8,!=1.8.1,<3.0.0,>=1.7.4->spacy<3.7.0,>=3.6.0->en-core-web-sm==3.6.0) (4.5.0)\n",
            "Requirement already satisfied: charset-normalizer<4,>=2 in /usr/local/lib/python3.10/dist-packages (from requests<3.0.0,>=2.13.0->spacy<3.7.0,>=3.6.0->en-core-web-sm==3.6.0) (3.2.0)\n",
            "Requirement already satisfied: idna<4,>=2.5 in /usr/local/lib/python3.10/dist-packages (from requests<3.0.0,>=2.13.0->spacy<3.7.0,>=3.6.0->en-core-web-sm==3.6.0) (3.4)\n",
            "Requirement already satisfied: urllib3<3,>=1.21.1 in /usr/local/lib/python3.10/dist-packages (from requests<3.0.0,>=2.13.0->spacy<3.7.0,>=3.6.0->en-core-web-sm==3.6.0) (2.0.5)\n",
            "Requirement already satisfied: certifi>=2017.4.17 in /usr/local/lib/python3.10/dist-packages (from requests<3.0.0,>=2.13.0->spacy<3.7.0,>=3.6.0->en-core-web-sm==3.6.0) (2023.7.22)\n",
            "Requirement already satisfied: blis<0.8.0,>=0.7.8 in /usr/local/lib/python3.10/dist-packages (from thinc<8.2.0,>=8.1.8->spacy<3.7.0,>=3.6.0->en-core-web-sm==3.6.0) (0.7.11)\n",
            "Requirement already satisfied: confection<1.0.0,>=0.0.1 in /usr/local/lib/python3.10/dist-packages (from thinc<8.2.0,>=8.1.8->spacy<3.7.0,>=3.6.0->en-core-web-sm==3.6.0) (0.1.3)\n",
            "Requirement already satisfied: click<9.0.0,>=7.1.1 in /usr/local/lib/python3.10/dist-packages (from typer<0.10.0,>=0.3.0->spacy<3.7.0,>=3.6.0->en-core-web-sm==3.6.0) (8.1.7)\n",
            "Requirement already satisfied: MarkupSafe>=2.0 in /usr/local/lib/python3.10/dist-packages (from jinja2->spacy<3.7.0,>=3.6.0->en-core-web-sm==3.6.0) (2.1.3)\n",
            "\u001b[38;5;2m✔ Download and installation successful\u001b[0m\n",
            "You can now load the package via spacy.load('en_core_web_sm')\n"
          ]
        }
      ]
    },
    {
      "cell_type": "code",
      "source": [
        "# Import necessary libraries\n",
        "import os\n",
        "import spacy\n",
        "from tabulate import tabulate\n",
        "import PyPDF2\n",
        "from google.colab import drive\n",
        "\n",
        "# Load the SpaCy NER model\n",
        "nlp = spacy.load('en_core_web_sm')\n",
        "\n",
        "# Mount Google Drive\n",
        "drive.mount('/content/drive')\n",
        "\n",
        "# Define path to the folder containing the PDFs\n",
        "pdf_folder = '/content/drive/My Drive/EA'\n",
        "\n",
        "# Extract text from PDFs\n",
        "def extract_text_from_pdf(pdf_path):\n",
        "    with open(pdf_path, 'rb') as file:\n",
        "        reader = PyPDF2.PdfReader(file)\n",
        "        text = \"\"\n",
        "        for page in reader.pages:\n",
        "            text += page.extract_text()\n",
        "    return text\n",
        "\n",
        "# Extract email data using simple string parsing\n",
        "def extract_email_data(text):\n",
        "    # Split the document into individual emails based on 'From:'\n",
        "    emails = text.split('From:')[1:]\n",
        "\n",
        "    data = []\n",
        "    for email in emails:\n",
        "        from_ = email.split('To:')[0].strip()\n",
        "        remaining = email.split('To:')[1]\n",
        "        to_ = remaining.split('Subject:')[0].strip()\n",
        "        subject_ = remaining.split('Subject:')[1].split('\\n')[0].strip()\n",
        "        data.append([from_, to_, subject_])\n",
        "\n",
        "    return data\n",
        "\n",
        "# Collecting data in a list\n",
        "all_data = []\n",
        "\n",
        "# Iterate over all PDFs in the folder and extract data\n",
        "for filename in os.listdir(pdf_folder):\n",
        "    if filename.endswith('.pdf'):\n",
        "        pdf_path = os.path.join(pdf_folder, filename)\n",
        "        text = extract_text_from_pdf(pdf_path)\n",
        "        email_data = extract_email_data(text)\n",
        "        all_data.extend(email_data)\n",
        "\n",
        "# Display data using tabulate\n",
        "headers = [\"From\", \"To\", \"Subject\"]\n",
        "print(tabulate(all_data, headers=headers, tablefmt='grid'))\n"
      ],
      "metadata": {
        "colab": {
          "base_uri": "https://localhost:8080/"
        },
        "id": "ymt9ElIhAoXI",
        "outputId": "752dfb25-f6b1-4355-bb5a-604727b68759"
      },
      "execution_count": 11,
      "outputs": [
        {
          "output_type": "stream",
          "name": "stdout",
          "text": [
            "Drive already mounted at /content/drive; to attempt to forcibly remount, call drive.mount(\"/content/drive\", force_remount=True).\n",
            "+---------------------------------------------+------------------------------------------------------------------------------+-------------------------------------------------------+\n",
            "| From                                        | To                                                                           | Subject                                               |\n",
            "+=============================================+==============================================================================+=======================================================+\n",
            "| Fermandez, Henry L.                         | Hopkins Hadel, Linda L.                                                      | RE: KidsPeace                                         |\n",
            "| Sent: Tuesday, September 25, 2001 5:23 PM   |                                                                              |                                                       |\n",
            "+---------------------------------------------+------------------------------------------------------------------------------+-------------------------------------------------------+\n",
            "| Chaikin, Karen                              | Hanson, Terry D.                                                             | FW: Special Markets                                   |\n",
            "| Sent: Wednesday, June 30. 1999 9:14AM       |                                                                              |                                                       |\n",
            "+---------------------------------------------+------------------------------------------------------------------------------+-------------------------------------------------------+\n",
            "| Putney, Rebecca M.                          | Gullotia, Frank P.; Tricker, Anthony; Jones, Jan (MDF); islesall@rivnet.net  | FW: Compensation Meeting                              |\n",
            "| Sent: Friday, September 29, 2000 2:14 PM    | Ce: Kinser, Robin D,                                                         |                                                       |\n",
            "+---------------------------------------------+------------------------------------------------------------------------------+-------------------------------------------------------+\n",
            "| Kinser, Robin D.                            | Putney, Rebecca M.                                                           | FW: Compensation Meeting                              |\n",
            "| Sent: Wednesday, September 27, 2000 4:14 PM | Cc: Don Leyden (E-mail)                                                      |                                                       |\n",
            "+---------------------------------------------+------------------------------------------------------------------------------+-------------------------------------------------------+\n",
            "| r :                                         | Kinser, Robin                                                                | Compensation Meeting                                  |\n",
            "| Sent: Wednesday, September 27, 2000 3:20 PM | Ce: Pulney, Rebecca M.                                                       |                                                       |\n",
            "+---------------------------------------------+------------------------------------------------------------------------------+-------------------------------------------------------+\n",
            "| Moskowitz, Seth W.                          | Coggins, Chris                                                               | Jane Brody Articles                                   |\n",
            "|                                             | Ce;                                                                          |                                                       |\n",
            "|                                             | BCC:                                                                         |                                                       |\n",
            "+---------------------------------------------+------------------------------------------------------------------------------+-------------------------------------------------------+\n",
            "| McLaughlin, Mary Sue                        | Suydam, Loraine                                                              | New Managers Laadership Consortium - Oct, 25-26, 2001 |\n",
            "| Sent: Monday, October 22, 2001 4:04 PM      |                                                                              |                                                       |\n",
            "+---------------------------------------------+------------------------------------------------------------------------------+-------------------------------------------------------+\n"
          ]
        }
      ]
    }
  ]
}