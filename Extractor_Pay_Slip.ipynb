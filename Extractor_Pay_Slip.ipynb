{
  "nbformat": 4,
  "nbformat_minor": 0,
  "metadata": {
    "colab": {
      "provenance": [],
      "authorship_tag": "ABX9TyOMoFk0CRnzQume4GUiK6wA",
      "include_colab_link": true
    },
    "kernelspec": {
      "name": "python3",
      "display_name": "Python 3"
    },
    "language_info": {
      "name": "python"
    }
  },
  "cells": [
    {
      "cell_type": "markdown",
      "metadata": {
        "id": "view-in-github",
        "colab_type": "text"
      },
      "source": [
        "<a href=\"https://colab.research.google.com/github/dsfdev2023/studentEvaluatiuon/blob/main/Extractor_Pay_Slip.ipynb\" target=\"_parent\"><img src=\"https://colab.research.google.com/assets/colab-badge.svg\" alt=\"Open In Colab\"/></a>"
      ]
    },
    {
      "cell_type": "markdown",
      "source": [
        "# **FOR 1 PAY SLIP**"
      ],
      "metadata": {
        "id": "W-BggZcOK3Hd"
      }
    },
    {
      "cell_type": "code",
      "source": [
        "# Install Dependencies\n",
        "!pip install PyPDF2\n",
        "\n",
        "import PyPDF2\n",
        "import re\n",
        "from google.colab import drive\n",
        "\n",
        "# Mount Google Drive\n",
        "drive.mount('/content/drive')\n",
        "\n",
        "# Provide the path to the PDF file on your Google Drive\n",
        "pdf_path = '/content/drive/MyDrive/PaySlips/PS.1.pdf'  # Replace 'path_to_your_pdf.pdf' with the actual path"
      ],
      "metadata": {
        "colab": {
          "base_uri": "https://localhost:8080/"
        },
        "id": "jhvNasN8K5kt",
        "outputId": "9f16ae08-d25b-4835-a912-28f3057d22a1"
      },
      "execution_count": 3,
      "outputs": [
        {
          "output_type": "stream",
          "name": "stdout",
          "text": [
            "Requirement already satisfied: PyPDF2 in /usr/local/lib/python3.10/dist-packages (3.0.1)\n",
            "Drive already mounted at /content/drive; to attempt to forcibly remount, call drive.mount(\"/content/drive\", force_remount=True).\n"
          ]
        }
      ]
    },
    {
      "cell_type": "markdown",
      "source": [
        "# **USE IMAGES FILES - PROCESS w OCR**"
      ],
      "metadata": {
        "id": "qxnJm3WVRIIm"
      }
    },
    {
      "cell_type": "code",
      "source": [
        "# Install necessary libraries\n",
        "!pip install pytesseract\n",
        "!apt-get install -y tesseract-ocr\n",
        "!pip install pytesseract tabulate\n"
      ],
      "metadata": {
        "colab": {
          "base_uri": "https://localhost:8080/"
        },
        "id": "Bs5BncMdQh3y",
        "outputId": "5c3ba570-1274-4715-c73b-5e17e48108f2"
      },
      "execution_count": 9,
      "outputs": [
        {
          "output_type": "stream",
          "name": "stdout",
          "text": [
            "Requirement already satisfied: pytesseract in /usr/local/lib/python3.10/dist-packages (0.3.10)\n",
            "Requirement already satisfied: packaging>=21.3 in /usr/local/lib/python3.10/dist-packages (from pytesseract) (23.2)\n",
            "Requirement already satisfied: Pillow>=8.0.0 in /usr/local/lib/python3.10/dist-packages (from pytesseract) (9.4.0)\n",
            "Reading package lists... Done\n",
            "Building dependency tree... Done\n",
            "Reading state information... Done\n",
            "tesseract-ocr is already the newest version (4.1.1-2.1build1).\n",
            "0 upgraded, 0 newly installed, 0 to remove and 18 not upgraded.\n",
            "Requirement already satisfied: pytesseract in /usr/local/lib/python3.10/dist-packages (0.3.10)\n",
            "Requirement already satisfied: tabulate in /usr/local/lib/python3.10/dist-packages (0.9.0)\n",
            "Requirement already satisfied: packaging>=21.3 in /usr/local/lib/python3.10/dist-packages (from pytesseract) (23.2)\n",
            "Requirement already satisfied: Pillow>=8.0.0 in /usr/local/lib/python3.10/dist-packages (from pytesseract) (9.4.0)\n"
          ]
        }
      ]
    },
    {
      "cell_type": "code",
      "source": [
        "# Import required libraries\n",
        "from PIL import Image\n",
        "import pytesseract\n",
        "\n",
        "# Function to extract text from an image\n",
        "def extract_text_from_image(image_path):\n",
        "    return pytesseract.image_to_string(Image.open(image_path))\n",
        "\n",
        "# Extract text from your image\n",
        "image_path = \"/content/drive/MyDrive/PaySlips/IMG_6523.jpg\"  # Modify this to the path of your image on Google Drive\n",
        "extracted_text = extract_text_from_image(image_path)\n",
        "\n",
        "# Print the extracted text\n",
        "print(extracted_text)\n",
        "\n",
        "# Function to identify key-value pairs\n",
        "def extract_key_value_pairs(text):\n",
        "    # Basic pattern to match \"Key : Value\"\n",
        "    pattern = r'([\\w\\s]+)\\s?:\\s?([\\w\\s\\d,€.%]+)'\n",
        "    matches = re.findall(pattern, text)\n",
        "    return dict(matches)\n",
        "\n",
        "# Extract key-value pairs\n",
        "key_value_pairs = extract_key_value_pairs(extracted_text)\n",
        "print(key_value_pairs)\n"
      ],
      "metadata": {
        "colab": {
          "base_uri": "https://localhost:8080/"
        },
        "id": "hJPe92czSwAM",
        "outputId": "e0e8fce4-dea5-486e-a4d5-20275cce8180"
      },
      "execution_count": 12,
      "outputs": [
        {
          "output_type": "stream",
          "name": "stdout",
          "text": [
            "BULLETIN DE PAIE\n",
            "Nom: MICHELIN ET CIE\n",
            "Adresse : 1 R GUTENBERG - ZIN°1\n",
            "CP et Ville : 37300 JOUE-LES-TOURS\n",
            "Numéro APE: 2211Z\n",
            "Numéro SIRET: 85520050700850\n",
            "Nom et Prénom: DAVID Vincent\n",
            "Adresse : 15 Rue de la Bouscarlo\n",
            "CP et Ville : 37350 CHAUMUSSAY\n",
            "Numéro SS: 168058447319131\n",
            "\n",
            "Date Entrée: 30/08/07\n",
            "Emploi: Contremaitres, agents de maitrise\n",
            "\n",
            " \n",
            "\n",
            "Salaire de base 75,84| 16,50€} 1251,36€\n",
            "HS 425% Oj 20,63 € 0,00 €\n",
            "SALAIRE BRUT 1 251,36 €\n",
            "\n",
            "[| ant SALARIALE\n",
            "\n",
            "CSG non déductible ; 2,40%\n",
            "CRDS non déductible 0,50%\n",
            "Csg déductible Y 5,10%\n",
            "\n",
            " \n",
            "\n",
            " \n",
            "\n",
            " \n",
            "\n",
            "Sécurité sociale\n",
            "\n",
            "Assurance maladie bi 5 i 12,80%\n",
            "Assurance veuvage\n",
            "\n",
            "Assurance vieillesse\n",
            "\n",
            "AV déplafonée : 1,60%\n",
            "AV plafonnée 8,20%\n",
            "Accidents du travail . 7,30%\n",
            "Allocation familiales 5.40%\n",
            "\n",
            "Aide au logement\n",
            "AL déplafonée : 0,40%\n",
            "AL plafonnée 0,10%\n",
            "\n",
            "ASSEDIC\n",
            "Ass. chémage tranche A 7 2,40% 30,03 € 4,00%\n",
            "Ass. chOmage tranche B 2,40% 0,00 € 4,00%\n",
            "\n",
            "TOTAL des cotisations | 219,74 € 498,04 €\n",
            "\n",
            "Payé par virement bancaire Net a payer 1 031,62 €\n",
            "le: 25/11/11 Net imposable 1 060,75 €\n",
            "\n",
            "A CONSERVER SANS LIMITATION DE DUREE\n",
            "\n",
            " \n",
            "\f\n",
            "{'BULLETIN DE PAIE\\nNom': 'MICHELIN ET CIE\\nAdresse ', '1\\nCP et Ville ': '37300 JOUE', 'TOURS\\nNuméro APE': '2211Z\\nNuméro SIRET', ' 85520050700850\\nNom et Prénom': 'DAVID Vincent\\nAdresse ', ' 15 Rue de la Bouscarlo\\nCP et Ville ': '37350 CHAUMUSSAY\\nNuméro SS', ' 168058447319131\\n\\nDate Entrée': '30', '07\\nEmploi': 'Contremaitres, agents de maitrise\\n\\n \\n\\nSalaire de base 75,84', '\\nAssurance veuvage\\n\\nAssurance vieillesse\\n\\nAV déplafonée ': '1,60%\\nAV plafonnée 8,20%\\nAccidents du travail . 7,30%\\nAllocation familiales 5.40%\\n\\nAide au logement\\nAL déplafonée ', '\\nle': '25'}\n"
          ]
        }
      ]
    },
    {
      "cell_type": "code",
      "source": [
        "# Import required libraries\n",
        "from PIL import Image\n",
        "import pytesseract\n",
        "import re\n",
        "\n",
        "# Function to extract text from an image\n",
        "def extract_text_from_image(image_path):\n",
        "    return pytesseract.image_to_string(Image.open(image_path))\n",
        "\n",
        "# Extract text from your image\n",
        "image_path = \"/content/drive/MyDrive/PaySlips/IMG_6523.jpg\"\n",
        "extracted_text = extract_text_from_image(image_path)\n",
        "\n",
        "# Function to identify specific key-value pairs\n",
        "def extract_specific_key_value_pairs(text):\n",
        "    patterns = [\n",
        "        r'Nom et Prénom\\s?:\\s?([\\w\\s]+)',\n",
        "        r'Adresse\\s?:\\s?([\\w\\s\\d,]+)',\n",
        "        r'CP et Ville\\s?:\\s?([\\w\\s\\d]+)',\n",
        "        r'Numéro SS\\s?:\\s?([\\d]+)',\n",
        "        r'Date Entrée\\s?:\\s?([\\d/]+)',\n",
        "        r'Emploi\\s?:\\s?([\\w\\s,]+)',\n",
        "    ]\n",
        "\n",
        "    extracted_pairs = {}\n",
        "    for pattern in patterns:\n",
        "        match = re.search(pattern, text)\n",
        "        if match:\n",
        "            key = pattern.split(r'\\s?:\\s?')[0]\n",
        "            value = match.group(1)\n",
        "            extracted_pairs[key] = value\n",
        "\n",
        "    return extracted_pairs\n",
        "\n",
        "# Extract the specific key-value pairs\n",
        "specific_key_value_pairs = extract_specific_key_value_pairs(extracted_text)\n",
        "\n",
        "# Improved visual display of the output\n",
        "print(\"Extracted Information:\\n\")\n",
        "for key, value in specific_key_value_pairs.items():\n",
        "    print(f\"{key}: {value}\")\n",
        "print(\"\\nEnd of Information.\")\n"
      ],
      "metadata": {
        "colab": {
          "base_uri": "https://localhost:8080/"
        },
        "id": "SVVeyE43XV4Q",
        "outputId": "b471b802-bffc-4020-b740-caf03c2b562e"
      },
      "execution_count": 21,
      "outputs": [
        {
          "output_type": "stream",
          "name": "stdout",
          "text": [
            "Extracted Information:\n",
            "\n",
            "Nom et Prénom: DAVID Vincent\n",
            "Adresse \n",
            "Adresse: 1 R GUTENBERG \n",
            "CP et Ville: 37300 JOUE\n",
            "Numéro SS: 168058447319131\n",
            "Date Entrée: 30/08/07\n",
            "Emploi: Contremaitres, agents de maitrise\n",
            "\n",
            " \n",
            "\n",
            "Salaire de base 75,84\n",
            "\n",
            "End of Information.\n"
          ]
        }
      ]
    },
    {
      "cell_type": "code",
      "source": [
        "# Import required libraries\n",
        "from PIL import Image\n",
        "import pytesseract\n",
        "import re\n",
        "\n",
        "# Function to extract text from an image\n",
        "def extract_text_from_image(image_path):\n",
        "    return pytesseract.image_to_string(Image.open(image_path))\n",
        "\n",
        "# Extract text from your image\n",
        "image_path = \"/content/drive/MyDrive/PaySlips/IMG_6523.jpg\"\n",
        "extracted_text = extract_text_from_image(image_path)\n",
        "\n",
        "# Function to identify specific key-value pairs\n",
        "def extract_specific_key_value_pairs(text):\n",
        "    patterns = {\n",
        "        \"Nom et Prénom\": r'Nom et Prénom\\s?:\\s?(.*?)\\s?(?=Numéro SS|$)',\n",
        "        \"Numéro SS\": r'Numéro SS\\s?:\\s?(.*?)\\s?(?=Date Entrée|$)',\n",
        "        \"Date Entrée\": r'Date Entrée\\s?:\\s?(.*?)\\s?(?=Emploi|$)',\n",
        "        \"Emploi\": r'Emploi\\s?:\\s?(.*?)\\s?(?=\\|)',\n",
        "        \"Net a payer\": r'Payé par virement bancaire Net a payer\\s?(.*?)\\s?(?=le:|$)',\n",
        "        \"le\": r'le:\\s?(.*?)\\s?(?=Net imposable|$)',\n",
        "        \"Net imposable\": r'Net imposable\\s?(.*?)\\s?(?=\\n|$)'\n",
        "    }\n",
        "\n",
        "    extracted_pairs = {}\n",
        "    for key, pattern in patterns.items():\n",
        "        match = re.search(pattern, text, re.DOTALL)\n",
        "        if match:\n",
        "            value = match.group(1).strip()\n",
        "            # Removing unwanted substrings from values\n",
        "            for unwanted in [\"Adresse\", \"Salaire de base 75,84\"]:\n",
        "                value = value.replace(unwanted, \"\").strip()\n",
        "            extracted_pairs[key] = value\n",
        "\n",
        "    return extracted_pairs\n",
        "\n",
        "# Extract the specific key-value pairs\n",
        "specific_key_value_pairs = extract_specific_key_value_pairs(extracted_text)\n",
        "\n",
        "# Display the output\n",
        "print(\"Extracted Information:\\n\")\n",
        "for key, value in specific_key_value_pairs.items():\n",
        "    print(f\"{key}: {value}\")\n",
        "print(\"\\nEnd of Information.\")\n"
      ],
      "metadata": {
        "colab": {
          "base_uri": "https://localhost:8080/"
        },
        "id": "dSy9UTrVlAv1",
        "outputId": "c3700563-a38b-49ff-f847-ef8aed233231"
      },
      "execution_count": 31,
      "outputs": [
        {
          "output_type": "stream",
          "name": "stdout",
          "text": [
            "Extracted Information:\n",
            "\n",
            "Nom et Prénom: DAVID Vincent\n",
            " : 15 Rue de la Bouscarlo\n",
            "CP et Ville : 37350 CHAUMUSSAY\n",
            "Numéro SS: 168058447319131\n",
            "Date Entrée: 30/08/07\n",
            "Emploi: Contremaitres, agents de maitrise\n",
            "Net a payer: 1 031,62 €\n",
            "le: 25/11/11\n",
            "Net imposable: 1 060,75 €\n",
            "\n",
            "End of Information.\n"
          ]
        }
      ]
    },
    {
      "cell_type": "code",
      "source": [
        "# Import required libraries\n",
        "from PIL import Image\n",
        "import pytesseract\n",
        "import re\n",
        "\n",
        "# Function to extract text from an image\n",
        "def extract_text_from_image(image_path):\n",
        "    return pytesseract.image_to_string(Image.open(image_path))\n",
        "\n",
        "# Extract text from your image\n",
        "image_path = \"/content/drive/MyDrive/PaySlips/IMG_6523.jpg\"\n",
        "extracted_text = extract_text_from_image(image_path)\n",
        "\n",
        "# Function to identify specific key-value pairs\n",
        "def extract_specific_key_value_pairs(text):\n",
        "    patterns = {\n",
        "        \"Nom et Prénom\": r'Nom et Prénom\\s?:\\s?(.*?)\\s?(?=Numéro SS|$)',\n",
        "        \"Numéro SS\": r'Numéro SS\\s?:\\s?(.*?)\\s?(?=Date Entrée|$)',\n",
        "        \"Date Entrée\": r'Date Entrée\\s?:\\s?(.*?)\\s?(?=Emploi|$)',\n",
        "        \"Emploi\": r'Emploi\\s?:\\s?(.*?)\\s?(?=\\|)',\n",
        "        \"Net a payer\": r'Payé par virement bancaire Net a payer\\s?(.*?)\\s?(?=le:|$)',\n",
        "        \"le\": r'le:\\s?(.*?)\\s?(?=Net imposable|$)',\n",
        "        \"Net imposable\": r'Net imposable\\s?(.*?)\\s?(?=\\n|$)'\n",
        "    }\n",
        "\n",
        "    extracted_pairs = {}\n",
        "    for key, pattern in patterns.items():\n",
        "        match = re.search(pattern, text, re.DOTALL)\n",
        "        if match:\n",
        "            value = match.group(1).strip()\n",
        "            extracted_pairs[key] = value\n",
        "\n",
        "    # Assigning \"Adresse\" key to the desired value\n",
        "    keys_list = list(extracted_pairs.keys())\n",
        "    index_of_nom_et_prenom = keys_list.index(\"Nom et Prénom\")\n",
        "    if keys_list[index_of_nom_et_prenom + 1] == \" : 15 Rue de la Bouscarlo\":\n",
        "        extracted_pairs[\"Adresse\"] = extracted_pairs.pop(\" : 15 Rue de la Bouscarlo\")\n",
        "\n",
        "    return extracted_pairs\n",
        "\n",
        "# Extract the specific key-value pairs\n",
        "specific_key_value_pairs = extract_specific_key_value_pairs(extracted_text)\n",
        "\n",
        "# Display the output\n",
        "print(\"Extracted Information:\\n\")\n",
        "for key, value in specific_key_value_pairs.items():\n",
        "    print(f\"{key}: {value}\")\n",
        "print(\"\\nEnd of Information.\")\n"
      ],
      "metadata": {
        "colab": {
          "base_uri": "https://localhost:8080/"
        },
        "id": "eDRT6scOmK2A",
        "outputId": "fea2cc38-5930-4734-df28-21c871e23d17"
      },
      "execution_count": 32,
      "outputs": [
        {
          "output_type": "stream",
          "name": "stdout",
          "text": [
            "Extracted Information:\n",
            "\n",
            "Nom et Prénom: DAVID Vincent\n",
            "Adresse : 15 Rue de la Bouscarlo\n",
            "CP et Ville : 37350 CHAUMUSSAY\n",
            "Numéro SS: 168058447319131\n",
            "Date Entrée: 30/08/07\n",
            "Emploi: Contremaitres, agents de maitrise\n",
            "\n",
            " \n",
            "\n",
            "Salaire de base 75,84\n",
            "Net a payer: 1 031,62 €\n",
            "le: 25/11/11\n",
            "Net imposable: 1 060,75 €\n",
            "\n",
            "End of Information.\n"
          ]
        }
      ]
    },
    {
      "cell_type": "code",
      "source": [
        "# Import required libraries\n",
        "from PIL import Image\n",
        "import pytesseract\n",
        "import re\n",
        "\n",
        "# Function to extract text from an image\n",
        "def extract_text_from_image(image_path):\n",
        "    return pytesseract.image_to_string(Image.open(image_path))\n",
        "\n",
        "# Extract text from your image\n",
        "image_path = \"/content/drive/MyDrive/PaySlips/IMG_6523.jpg\"\n",
        "extracted_text = extract_text_from_image(image_path)\n",
        "\n",
        "# Function to identify specific key-value pairs\n",
        "def extract_specific_key_value_pairs(text):\n",
        "    patterns = {\n",
        "        \"Nom et Prénom\": r'Nom et Prénom\\s?:\\s?(.*?)\\s?(?=Numéro SS|$)',\n",
        "        \"Numéro SS\": r'Numéro SS\\s?:\\s?(.*?)\\s?(?=Date Entrée|$)',\n",
        "        \"Date Entrée\": r'Date Entrée\\s?:\\s?(.*?)\\s?(?=Emploi|$)',\n",
        "        \"Emploi\": r'Emploi\\s?:\\s?(.*?)\\s?(?=\\|)',\n",
        "        \"Net a payer\": r'Payé par virement bancaire Net a payer\\s?(.*?)\\s?(?=le:|$)',\n",
        "        \"le\": r'le:\\s?(.*?)\\s?(?=Net imposable|$)',\n",
        "        \"Net imposable\": r'Net imposable\\s?(.*?)\\s?(?=\\n|$)'\n",
        "    }\n",
        "\n",
        "    extracted_pairs = {}\n",
        "    for key, pattern in patterns.items():\n",
        "        match = re.search(pattern, text, re.DOTALL)\n",
        "        if match:\n",
        "            value = match.group(1).strip()\n",
        "            # Removing unwanted substrings from values\n",
        "            if \"Salaire de base\" in value:\n",
        "                value = value.split(\"Salaire de base\")[0].strip()\n",
        "            extracted_pairs[key] = value\n",
        "\n",
        "    # Assigning \"Adresse\" key to the desired value based on index\n",
        "    keys_list = list(extracted_pairs.keys())\n",
        "    index_of_nom_et_prenom = keys_list.index(\"Nom et Prénom\")\n",
        "    if keys_list[index_of_nom_et_prenom + 1] == \" : 15 Rue de la Bouscarlo\":\n",
        "        extracted_pairs[\"Adresse\"] = extracted_pairs.pop(\" : 15 Rue de la Bouscarlo\")\n",
        "\n",
        "    return extracted_pairs\n",
        "\n",
        "# Extract the specific key-value pairs\n",
        "specific_key_value_pairs = extract_specific_key_value_pairs(extracted_text)\n",
        "\n",
        "# Display the output\n",
        "print(\"Extracted Information:\\n\")\n",
        "for key, value in specific_key_value_pairs.items():\n",
        "    print(f\"{key}: {value}\")\n",
        "print(\"\\nEnd of Information.\")\n"
      ],
      "metadata": {
        "colab": {
          "base_uri": "https://localhost:8080/"
        },
        "id": "1ckmW60KoMpN",
        "outputId": "f2f9294f-bf88-4aea-c928-27ab8bcf0509"
      },
      "execution_count": 33,
      "outputs": [
        {
          "output_type": "stream",
          "name": "stdout",
          "text": [
            "Extracted Information:\n",
            "\n",
            "Nom et Prénom: DAVID Vincent\n",
            "Adresse : 15 Rue de la Bouscarlo\n",
            "CP et Ville : 37350 CHAUMUSSAY\n",
            "Numéro SS: 168058447319131\n",
            "Date Entrée: 30/08/07\n",
            "Emploi: Contremaitres, agents de maitrise\n",
            "Net a payer: 1 031,62 €\n",
            "le: 25/11/11\n",
            "Net imposable: 1 060,75 €\n",
            "\n",
            "End of Information.\n"
          ]
        }
      ]
    },
    {
      "cell_type": "code",
      "source": [
        "# Import required libraries\n",
        "from PIL import Image\n",
        "import pytesseract\n",
        "import re\n",
        "import os\n",
        "\n",
        "# Mounting Google Drive\n",
        "from google.colab import drive\n",
        "drive.mount('/content/drive')\n",
        "\n",
        "# Specify directory containing images\n",
        "image_directory = \"/content/drive/MyDrive/PS\"  # Modify this path to your folder's location\n",
        "\n",
        "# Function to identify specific key-value pairs\n",
        "def extract_specific_key_value_pairs(text):\n",
        "    patterns = {\n",
        "        \"Nom et Prénom\": r'Nom et Prénom\\s?:\\s?(.*?)\\s?(?=Numéro SS|$)',\n",
        "        \"Numéro SS\": r'Numéro SS\\s?:\\s?(.*?)\\s?(?=Date Entrée|$)',\n",
        "        \"Date Entrée\": r'Date Entrée\\s?:\\s?(.*?)\\s?(?=Emploi|$)',\n",
        "        \"Emploi\": r'Emploi\\s?:\\s?(.*?)\\s?(?=\\|)',\n",
        "        \"Net a payer\": r'Payé par virement bancaire Net a payer\\s?(.*?)\\s?(?=le:|$)',\n",
        "        \"le\": r'le:\\s?(.*?)\\s?(?=Net imposable|$)',\n",
        "        \"Net imposable\": r'Net imposable\\s?(.*?)\\s?(?=\\n|$)'\n",
        "    }\n",
        "\n",
        "    extracted_pairs = {}\n",
        "    for key, pattern in patterns.items():\n",
        "        match = re.search(pattern, text, re.DOTALL)\n",
        "        if match:\n",
        "            value = match.group(1).strip()\n",
        "            # Removing unwanted substrings from values\n",
        "            if \"Salaire de base\" in value:\n",
        "                value = value.split(\"Salaire de base\")[0].strip()\n",
        "            extracted_pairs[key] = value\n",
        "\n",
        "    return extracted_pairs\n",
        "\n",
        "# Process each image in the specified directory\n",
        "for image_file in os.listdir(image_directory):\n",
        "    if image_file.endswith(('.png', '.jpg', '.jpeg')):\n",
        "        image_path = os.path.join(image_directory, image_file)\n",
        "        extracted_text = extract_text_from_image(image_path)\n",
        "        specific_key_value_pairs = extract_specific_key_value_pairs(extracted_text)\n",
        "\n",
        "        # Display the output\n",
        "        print(f\"Extracted Information from {image_file}:\\n\")\n",
        "        for key, value in specific_key_value_pairs.items():\n",
        "            print(f\"{key}: {value}\")\n",
        "        print(\"\\nEnd of Information from {image_file}.\\n\")\n"
      ],
      "metadata": {
        "colab": {
          "base_uri": "https://localhost:8080/"
        },
        "id": "G-_c35Xmp4jI",
        "outputId": "d2fad1b8-f58b-4838-cd88-d3351ae79881"
      },
      "execution_count": 34,
      "outputs": [
        {
          "output_type": "stream",
          "name": "stdout",
          "text": [
            "Drive already mounted at /content/drive; to attempt to forcibly remount, call drive.mount(\"/content/drive\", force_remount=True).\n"
          ]
        },
        {
          "output_type": "stream",
          "name": "stderr",
          "text": [
            "/usr/local/lib/python3.10/dist-packages/PIL/Image.py:3167: DecompressionBombWarning: Image size (151078793 pixels) exceeds limit of 89478485 pixels, could be decompression bomb DOS attack.\n",
            "  warnings.warn(\n"
          ]
        },
        {
          "output_type": "stream",
          "name": "stdout",
          "text": [
            "Extracted Information from PS.6.png:\n",
            "\n",
            "Nom et Prénom: LEMAIRE Damien\n",
            "Adresse : 47 Avenue Pierre Imbert\n",
            "CP et Ville : 37190 DRUYE\n",
            "Numéro SS: 181084608185026\n",
            "Date Entrée: 25/03/01\n",
            "Net a payer: 2 868,34 €\n",
            "le : 23/10/14 Net imposable 2 950,93 €\n",
            "\n",
            "A CONSERVER SANS LIMITATION DE DUREE\n",
            "Net imposable: 2 950,93 €\n",
            "\n",
            "End of Information from {image_file}.\n",
            "\n"
          ]
        },
        {
          "output_type": "stream",
          "name": "stderr",
          "text": [
            "/usr/local/lib/python3.10/dist-packages/PIL/Image.py:3167: DecompressionBombWarning: Image size (151078793 pixels) exceeds limit of 89478485 pixels, could be decompression bomb DOS attack.\n",
            "  warnings.warn(\n"
          ]
        },
        {
          "output_type": "stream",
          "name": "stdout",
          "text": [
            "Extracted Information from PS.2.png:\n",
            "\n",
            "Numéro SS: 159083084331962\n",
            "Date Entrée: 22/04/01\n",
            "\n",
            "Emplol :\n",
            "le: 25/06/13\n",
            "Net imposable: 2165,05€\n",
            "\n",
            "End of Information from {image_file}.\n",
            "\n",
            "Extracted Information from PS.1.png:\n",
            "\n",
            "Nom et Prénom: DAVID Vincent\n",
            "Adresse: 15 Rue de la Bouscarlo\n",
            "CP et Ville : 37350 CHAUMUSSAY\n",
            "Numéro SS: 168058447319131\n",
            "Date Entrée: 30/08/07\n",
            "Emploi: Contremaitres, agents de maitrise\n",
            "le: 37300 JOUE-LES-TOURS\n",
            "\n",
            "Numéro APE: 22112\n",
            "Numéro SIRET: 85520050700850\n",
            "\n",
            "SALARIE\n",
            "\n",
            "Nom et Prénom : DAVID Vincent\n",
            "Adresse: 15 Rue de la Bouscarlo\n",
            "CP et Ville : 37350 CHAUMUSSAY\n",
            "Numéro SS: 168058447319131\n",
            "Date Entrée : 30/08/07\n",
            "Emploi : Contremaitres, agents de maitrise\n",
            "Net imposable: 1 060,75 €\n",
            "\n",
            "End of Information from {image_file}.\n",
            "\n"
          ]
        },
        {
          "output_type": "stream",
          "name": "stderr",
          "text": [
            "/usr/local/lib/python3.10/dist-packages/PIL/Image.py:3167: DecompressionBombWarning: Image size (151078793 pixels) exceeds limit of 89478485 pixels, could be decompression bomb DOS attack.\n",
            "  warnings.warn(\n"
          ]
        },
        {
          "output_type": "stream",
          "name": "stdout",
          "text": [
            "Extracted Information from PS.5.png:\n",
            "\n",
            "Date Entrée: 01/07/04\n",
            "Net imposable: 1 680,16 €\n",
            "\n",
            "End of Information from {image_file}.\n",
            "\n",
            "Extracted Information from PS.4.png:\n",
            "\n",
            "Nom et Prénom: GUERIN Frederic\n",
            "28 Avenue de I'Amiral Ganteaume\n",
            "37110 VILLEDOMER\n",
            "159083084331962\n",
            "22/04/01\n",
            "\n",
            "Ouvriers qualifiés de type industriel\n",
            "\n",
            "151,67 15,44 €\n",
            "\n",
            "Fo PART SALARIALE PART PATRONALE\n",
            "Taux Montant Taux Montant\n",
            "\n",
            "0,50% 12,39 €\n",
            "5,10%\n",
            "\n",
            "     \n",
            "  \n",
            "\n",
            "  \n",
            "\n",
            "     \n",
            "  \n",
            "  \n",
            "\n",
            "Adresse :\n",
            "\n",
            "  \n",
            "\n",
            "  \n",
            "\n",
            "CP et Ville :\n",
            "\n",
            "    \n",
            "\n",
            "  \n",
            "  \n",
            "\n",
            "   \n",
            "\n",
            "      \n",
            "      \n",
            "\n",
            "    \n",
            "  \n",
            "\n",
            "Adresse :\n",
            "CP et Ville :\n",
            "Numéro SS: \n",
            "Date Entrée: \n",
            "le: 25/06/13\n",
            "Net imposable: 2 165,05 €\n",
            "\n",
            "End of Information from {image_file}.\n",
            "\n",
            "Extracted Information from PS.3.png:\n",
            "\n",
            "Nom et Prénom: BERTRAND Francois\n",
            "Adresse : 67 Rue du Général Bonaparte\n",
            "CP et Ville : 37530 MONTREUIL EN TOURAINE\n",
            "Numéro SS: 157012594205596\n",
            "Date Entrée: 21/09/03\n",
            "Chauffeurs\n",
            "\n",
            "151,67 15,44€ 2 341,78 €\n",
            "\n",
            "      \n",
            "  \n",
            " \n",
            "\n",
            "  \n",
            "\n",
            "Adresse :\n",
            "\n",
            "CP et Ville :\n",
            "le: 21/07/10\n",
            "Net imposable: 1 985,08 €\n",
            "\n",
            "End of Information from {image_file}.\n",
            "\n"
          ]
        }
      ]
    }
  ]
}